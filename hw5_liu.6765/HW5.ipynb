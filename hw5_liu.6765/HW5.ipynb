{
  "nbformat": 4,
  "nbformat_minor": 0,
  "metadata": {
    "colab": {
      "name": "HW5.ipynb",
      "provenance": [],
      "collapsed_sections": []
    },
    "kernelspec": {
      "name": "python3",
      "display_name": "Python 3"
    },
    "language_info": {
      "name": "python"
    }
  },
  "cells": [
    {
      "cell_type": "markdown",
      "metadata": {
        "id": "PsMDzjAs4vOC"
      },
      "source": [
        "#. CSE 5243 Homework5"
      ]
    },
    {
      "cell_type": "code",
      "metadata": {
        "id": "0zipGOCSjexU"
      },
      "source": [
        "import pandas as pd\n",
        "import numpy as np"
      ],
      "execution_count": 104,
      "outputs": []
    },
    {
      "cell_type": "markdown",
      "metadata": {
        "id": "OM_AZPiosEe2"
      },
      "source": [
        "# 1.Preprocess Data"
      ]
    },
    {
      "cell_type": "code",
      "metadata": {
        "id": "okP-rdqmtIQd"
      },
      "source": [
        "# Here I provided 2 different formatting which I will take advantage on both\n",
        "df = pd.read_excel(\"/content/CSE 5243 HW 5 LiuXuecheng.xlsx\",sheet_name=\"Data-Table\") \n",
        "df.head()\n",
        "data = df.values\n",
        "data = data[:,1:]\n",
        "\n",
        "transactions=[]\n",
        "for index, row in df.iterrows():\n",
        "    transaction=[]\n",
        "    for item in df.columns[1:]:\n",
        "        if row[item]:\n",
        "            transaction.append(item[0])\n",
        "    transactions.append(transaction)"
      ],
      "execution_count": 109,
      "outputs": []
    },
    {
      "cell_type": "markdown",
      "metadata": {
        "id": "UvcTvmSN3_V2"
      },
      "source": [
        "# 2.Basic Statistics"
      ]
    },
    {
      "cell_type": "markdown",
      "metadata": {
        "id": "zs580hBmu594"
      },
      "source": [
        "**1A**"
      ]
    },
    {
      "cell_type": "code",
      "metadata": {
        "colab": {
          "base_uri": "https://localhost:8080/"
        },
        "id": "kQA3h4dMu4Yi",
        "outputId": "b8278f23-ce07-41fc-dcfd-0cf8fbf84335"
      },
      "source": [
        "# 2^d where d stands for number of items\n",
        "num_item = data.shape[1];\n",
        "total_itemset = 2**(num_item)\n",
        "total_itemset"
      ],
      "execution_count": 110,
      "outputs": [
        {
          "output_type": "execute_result",
          "data": {
            "text/plain": [
              "64"
            ]
          },
          "metadata": {
            "tags": []
          },
          "execution_count": 110
        }
      ]
    },
    {
      "cell_type": "markdown",
      "metadata": {
        "id": "CmeSzHg4xNij"
      },
      "source": [
        "**2A**"
      ]
    },
    {
      "cell_type": "code",
      "metadata": {
        "colab": {
          "base_uri": "https://localhost:8080/"
        },
        "id": "yYbkWLsqzmvA",
        "outputId": "771e0287-6423-4ebe-9fcf-9c1d3e1ac419"
      },
      "source": [
        "# define powerset function\n",
        "def powerset(s):\n",
        "    x = len(s)\n",
        "    masks = [1 << i for i in range(x)]\n",
        "    for i in range(1 << x):\n",
        "        yield [ss for mask, ss in zip(masks, s) if i & mask]\n",
        "\n",
        "total_rules = 0\n",
        "for ele in powerset(['A','B','C','D','E','F']):\n",
        "  if len(ele)!=0:\n",
        "    total_rules = 2**(len(ele))-2 + total_rules\n",
        "\n",
        "total_rules"
      ],
      "execution_count": 111,
      "outputs": [
        {
          "output_type": "execute_result",
          "data": {
            "text/plain": [
              "602"
            ]
          },
          "metadata": {
            "tags": []
          },
          "execution_count": 111
        }
      ]
    },
    {
      "cell_type": "markdown",
      "metadata": {
        "id": "RpYurg6lz8Q2"
      },
      "source": [
        "# 3.Generate the Frequent Itemsets"
      ]
    },
    {
      "cell_type": "markdown",
      "metadata": {
        "id": "jfjthrIoBjMY"
      },
      "source": [
        "**1B**"
      ]
    },
    {
      "cell_type": "code",
      "metadata": {
        "colab": {
          "base_uri": "https://localhost:8080/",
          "height": 68
        },
        "id": "H5ezO8-Q0Bfn",
        "outputId": "9e9be4ba-d400-48ec-ec3f-a9246e00fe55"
      },
      "source": [
        "# check whether there is empty row and full row\n",
        "max = np.max(np.sum(data,axis = 1))\n",
        "min = np.min(np.sum(data,axis = 1))\n",
        "display(max)\n",
        "display(min)\n",
        "\n",
        "actual_itemset = 2**(data.shape[1])-1 # element empty set since there is no empty row\n",
        "display(actual_itemset)"
      ],
      "execution_count": 112,
      "outputs": [
        {
          "output_type": "display_data",
          "data": {
            "text/plain": [
              "6"
            ]
          },
          "metadata": {
            "tags": []
          }
        },
        {
          "output_type": "display_data",
          "data": {
            "text/plain": [
              "1"
            ]
          },
          "metadata": {
            "tags": []
          }
        },
        {
          "output_type": "display_data",
          "data": {
            "text/plain": [
              "63"
            ]
          },
          "metadata": {
            "tags": []
          }
        }
      ]
    },
    {
      "cell_type": "markdown",
      "metadata": {
        "id": "erO589_iBpVh"
      },
      "source": [
        "**2G**"
      ]
    },
    {
      "cell_type": "code",
      "metadata": {
        "colab": {
          "base_uri": "https://localhost:8080/"
        },
        "id": "gX9y4jQ62H5E",
        "outputId": "4d0053e3-bf9c-4b21-bac0-f8c3d47db328"
      },
      "source": [
        "# get a list of all transactions\n",
        "transactions=[]\n",
        "for index, row in df.iterrows():\n",
        "    transaction=[]\n",
        "    for item in df.columns[1:]:\n",
        "        if row[item]:\n",
        "            transaction.append(item[0])\n",
        "    transactions.append(transaction)\n",
        "\n",
        "# get a list of all nonempty subsets of 6 items\n",
        "actual_itemsets = []\n",
        "for ele in powerset(['A','B','C','D','E','F']):\n",
        "  if ele !=[]:\n",
        "    actual_itemsets.append(ele)\n",
        "\n",
        "# brute-force to check\n",
        "def MinSup(n):\n",
        "    l= []\n",
        "    for itemset in actual_itemsets:\n",
        "        i=0\n",
        "        for transaction in transactions:\n",
        "            if set(itemset).issubset(set(transaction)):\n",
        "                i+=1\n",
        "                if i==n:\n",
        "                    l.append(itemset)\n",
        "                    break\n",
        "    l.sort()\n",
        "    l.sort(key=len)\n",
        "    return l\n",
        "\n",
        "print(len(MinSup(2)))"
      ],
      "execution_count": 113,
      "outputs": [
        {
          "output_type": "stream",
          "text": [
            "43\n"
          ],
          "name": "stdout"
        }
      ]
    },
    {
      "cell_type": "code",
      "metadata": {
        "colab": {
          "base_uri": "https://localhost:8080/"
        },
        "id": "UyKAfJscGf0U",
        "outputId": "25d83367-782b-4d9f-af78-d37c958f6503"
      },
      "source": [
        "print(MinSup(2))"
      ],
      "execution_count": 114,
      "outputs": [
        {
          "output_type": "stream",
          "text": [
            "[['A'], ['B'], ['C'], ['D'], ['E'], ['F'], ['A', 'B'], ['A', 'C'], ['A', 'D'], ['A', 'E'], ['A', 'F'], ['B', 'C'], ['B', 'D'], ['B', 'E'], ['B', 'F'], ['C', 'D'], ['C', 'E'], ['C', 'F'], ['D', 'E'], ['D', 'F'], ['E', 'F'], ['A', 'B', 'C'], ['A', 'B', 'D'], ['A', 'B', 'E'], ['A', 'B', 'F'], ['A', 'C', 'D'], ['A', 'C', 'E'], ['A', 'C', 'F'], ['A', 'D', 'F'], ['A', 'E', 'F'], ['B', 'C', 'E'], ['B', 'C', 'F'], ['B', 'D', 'E'], ['B', 'E', 'F'], ['C', 'D', 'F'], ['C', 'E', 'F'], ['A', 'B', 'C', 'E'], ['A', 'B', 'C', 'F'], ['A', 'B', 'E', 'F'], ['A', 'C', 'D', 'F'], ['A', 'C', 'E', 'F'], ['B', 'C', 'E', 'F'], ['A', 'B', 'C', 'E', 'F']]\n"
          ],
          "name": "stdout"
        }
      ]
    },
    {
      "cell_type": "code",
      "metadata": {
        "colab": {
          "base_uri": "https://localhost:8080/"
        },
        "id": "Ke1pjNULGpKI",
        "outputId": "8a220b17-c273-4f5e-ef5d-85e30d6387b1"
      },
      "source": [
        "print(len(MinSup(3)))\n",
        "print(MinSup(3))"
      ],
      "execution_count": 115,
      "outputs": [
        {
          "output_type": "stream",
          "text": [
            "31\n",
            "[['A'], ['B'], ['C'], ['D'], ['E'], ['F'], ['A', 'B'], ['A', 'C'], ['A', 'D'], ['A', 'E'], ['A', 'F'], ['B', 'C'], ['B', 'D'], ['B', 'E'], ['B', 'F'], ['C', 'E'], ['C', 'F'], ['D', 'E'], ['D', 'F'], ['E', 'F'], ['A', 'B', 'C'], ['A', 'B', 'D'], ['A', 'B', 'E'], ['A', 'B', 'F'], ['A', 'C', 'F'], ['A', 'D', 'F'], ['B', 'C', 'E'], ['B', 'C', 'F'], ['B', 'E', 'F'], ['C', 'E', 'F'], ['A', 'B', 'C', 'F']]\n"
          ],
          "name": "stdout"
        }
      ]
    },
    {
      "cell_type": "code",
      "metadata": {
        "colab": {
          "base_uri": "https://localhost:8080/"
        },
        "id": "pFlDBxDzG6xr",
        "outputId": "47808c8f-a1fa-4e45-9721-e0822c87398e"
      },
      "source": [
        "print(len(MinSup(4)))\n",
        "print(MinSup(4))"
      ],
      "execution_count": 116,
      "outputs": [
        {
          "output_type": "stream",
          "text": [
            "28\n",
            "[['A'], ['B'], ['C'], ['D'], ['E'], ['F'], ['A', 'B'], ['A', 'C'], ['A', 'D'], ['A', 'F'], ['B', 'C'], ['B', 'D'], ['B', 'E'], ['B', 'F'], ['C', 'E'], ['C', 'F'], ['D', 'E'], ['D', 'F'], ['E', 'F'], ['A', 'B', 'C'], ['A', 'B', 'D'], ['A', 'B', 'F'], ['A', 'C', 'F'], ['A', 'D', 'F'], ['B', 'C', 'E'], ['B', 'C', 'F'], ['C', 'E', 'F'], ['A', 'B', 'C', 'F']]\n"
          ],
          "name": "stdout"
        }
      ]
    },
    {
      "cell_type": "markdown",
      "metadata": {
        "id": "zqzG0vwPHa5F"
      },
      "source": [
        "**3A**"
      ]
    },
    {
      "cell_type": "code",
      "metadata": {
        "id": "iQsgGY31L7R0"
      },
      "source": [
        "table=[[{'A'}, {'B'}, {'C'}, {'D'}, {'E'}, {'F'}]]\n",
        "num = 0\n",
        "pruned_itemsets =[]\n",
        "for k in range(1,6):\n",
        "    candidates = generate(table[k-1])\n",
        "    for itemset in candidates:\n",
        "        supersets = [set(superset) for superset in powerset(itemset) if len(superset)==k]\n",
        "        for superset in supersets:\n",
        "            if superset not in table[k-1]:\n",
        "                candidates.remove(itemset)\n",
        "                num+=1\n",
        "                pruned_itemsets.append(sorted(list(itemset)))\n",
        "                break\n",
        "    table.append([])\n",
        "    for itemset in candidates:\n",
        "        i=0\n",
        "        for transaction in transactions:\n",
        "            if set(itemset).issubset(set(transaction)):\n",
        "                i+=1\n",
        "                if i==n:\n",
        "                    table[k].append(itemset)\n",
        "                    break\n",
        "n = 3\n",
        "def generate(l):\n",
        "    mergeSet = []\n",
        "    for itemset in l:\n",
        "        for item in ['A', 'B', 'C', 'D', 'E', 'F']:\n",
        "            if item not in itemset:\n",
        "                s = itemset.copy()\n",
        "                s.add(item)\n",
        "                if s not in mergeSet:\n",
        "                    mergeSet.append(s)\n",
        "    return mergeSet\n"
      ],
      "execution_count": 163,
      "outputs": []
    },
    {
      "cell_type": "code",
      "metadata": {
        "colab": {
          "base_uri": "https://localhost:8080/"
        },
        "id": "_cZsRIbGRzpI",
        "outputId": "7fa15015-67d8-44e5-9963-fb7a39cd6051"
      },
      "source": [
        "print(num)"
      ],
      "execution_count": 164,
      "outputs": [
        {
          "output_type": "stream",
          "text": [
            "12\n"
          ],
          "name": "stdout"
        }
      ]
    },
    {
      "cell_type": "markdown",
      "metadata": {
        "id": "jRKEt18M26gJ"
      },
      "source": [
        "**3B**"
      ]
    },
    {
      "cell_type": "code",
      "metadata": {
        "colab": {
          "base_uri": "https://localhost:8080/"
        },
        "id": "ghT1fkNJ2_6r",
        "outputId": "5fd9bfa8-2f16-46d6-9e4c-f27d19a04a76"
      },
      "source": [
        "print(pruned_itemsets)"
      ],
      "execution_count": 165,
      "outputs": [
        {
          "output_type": "stream",
          "text": [
            "[['A', 'C', 'D'], ['B', 'C', 'D'], ['C', 'D', 'E'], ['C', 'D', 'F'], ['A', 'B', 'C', 'D'], ['A', 'B', 'D', 'E'], ['A', 'B', 'E', 'F'], ['A', 'C', 'E', 'F'], ['B', 'C', 'D', 'E'], ['B', 'C', 'D', 'F'], ['C', 'D', 'E', 'F'], ['A', 'B', 'C', 'D', 'F']]\n"
          ],
          "name": "stdout"
        }
      ]
    },
    {
      "cell_type": "markdown",
      "metadata": {
        "id": "cMbdirlJ3Eok"
      },
      "source": [
        "**4A**"
      ]
    },
    {
      "cell_type": "code",
      "metadata": {
        "colab": {
          "base_uri": "https://localhost:8080/"
        },
        "id": "EkSHaF263GwL",
        "outputId": "986374b9-1f75-4e11-c88d-36967e3dfa06"
      },
      "source": [
        "maximal = []\n",
        "for k in range(1,6):\n",
        "    itemsets = [set(subset) for subset in MinSup(3) if len(subset)==k]\n",
        "    for itemset in itemsets:\n",
        "        flg=True\n",
        "        for item in ['A', 'B', 'C', 'D', 'E', 'F']:\n",
        "            if item not in itemset:\n",
        "                s = itemset.copy()\n",
        "                s.add(item)\n",
        "                if s in [set(subset) for subset in MinSup(3)]:\n",
        "                    flg=False\n",
        "        if flg:\n",
        "            maximal.append(sorted(list(itemset)))\n",
        "print(len(maximal))"
      ],
      "execution_count": 166,
      "outputs": [
        {
          "output_type": "stream",
          "text": [
            "8\n"
          ],
          "name": "stdout"
        }
      ]
    },
    {
      "cell_type": "markdown",
      "metadata": {
        "id": "FfWK4UZj3OiE"
      },
      "source": [
        "**4B**"
      ]
    },
    {
      "cell_type": "code",
      "metadata": {
        "colab": {
          "base_uri": "https://localhost:8080/"
        },
        "id": "GNl2r4iX3Qzz",
        "outputId": "8e17c7ad-8b3a-4a5e-b12b-1be4adb6250d"
      },
      "source": [
        "print(maximal)"
      ],
      "execution_count": 120,
      "outputs": [
        {
          "output_type": "stream",
          "text": [
            "[['D', 'E'], ['A', 'B', 'D'], ['A', 'B', 'E'], ['A', 'D', 'F'], ['B', 'C', 'E'], ['B', 'E', 'F'], ['C', 'E', 'F'], ['A', 'B', 'C', 'F']]\n"
          ],
          "name": "stdout"
        }
      ]
    },
    {
      "cell_type": "markdown",
      "metadata": {
        "id": "4MrXA7x93UU9"
      },
      "source": [
        "**5A**"
      ]
    },
    {
      "cell_type": "code",
      "metadata": {
        "id": "221Q5_kq3WVe"
      },
      "source": [
        "table=[[{'A'}, {'B'}, {'C'}, {'D'}, {'E'}, {'F'}]]\n",
        "num = 0\n",
        "closed_itemsets =[]\n",
        "for k in range(6):\n",
        "    for itemset in table[k]:\n",
        "        flag=True\n",
        "        for superset in generate([itemset]):\n",
        "            if support(itemset) == support(superset):\n",
        "                flag=False\n",
        "                break\n",
        "        if flag:\n",
        "            num+=1\n",
        "            closed_itemsets.append(sorted(list(itemset)))\n",
        "    table.append(generate(table[k]))\n",
        "\n",
        "def support(itemset):\n",
        "    i=0\n",
        "    for transaction in transactions:\n",
        "        if set(itemset).issubset(set(transaction)):\n",
        "            i+=1\n",
        "    return i"
      ],
      "execution_count": 169,
      "outputs": []
    },
    {
      "cell_type": "code",
      "metadata": {
        "colab": {
          "base_uri": "https://localhost:8080/"
        },
        "id": "gUjYO_kUSD_x",
        "outputId": "4b81b09d-f107-4baa-8174-dfe1c699a90d"
      },
      "source": [
        "print(num)"
      ],
      "execution_count": 170,
      "outputs": [
        {
          "output_type": "stream",
          "text": [
            "30\n"
          ],
          "name": "stdout"
        }
      ]
    },
    {
      "cell_type": "markdown",
      "metadata": {
        "id": "fzWHtx4c3buX"
      },
      "source": [
        "**5B**"
      ]
    },
    {
      "cell_type": "code",
      "metadata": {
        "colab": {
          "base_uri": "https://localhost:8080/"
        },
        "id": "UmhMudel3hsV",
        "outputId": "d1cc87cf-14e2-4d83-8d66-82b20ff74034"
      },
      "source": [
        "print(closed_itemsets)"
      ],
      "execution_count": 171,
      "outputs": [
        {
          "output_type": "stream",
          "text": [
            "[['A'], ['B'], ['C'], ['D'], ['E'], ['F'], ['A', 'B'], ['A', 'D'], ['A', 'F'], ['B', 'C'], ['B', 'D'], ['B', 'E'], ['B', 'F'], ['C', 'E'], ['C', 'F'], ['D', 'E'], ['E', 'F'], ['A', 'B', 'D'], ['A', 'B', 'E'], ['A', 'C', 'F'], ['A', 'D', 'F'], ['B', 'C', 'E'], ['B', 'C', 'F'], ['B', 'D', 'E'], ['B', 'E', 'F'], ['C', 'E', 'F'], ['A', 'B', 'C', 'F'], ['A', 'C', 'D', 'F'], ['A', 'B', 'C', 'E', 'F'], ['A', 'B', 'C', 'D', 'E', 'F']]\n"
          ],
          "name": "stdout"
        }
      ]
    },
    {
      "cell_type": "markdown",
      "metadata": {
        "id": "-PQWVqbH3lac"
      },
      "source": [
        "**5C**"
      ]
    },
    {
      "cell_type": "code",
      "metadata": {
        "id": "vBLU1aZW3mKj"
      },
      "source": [
        "table=[]\n",
        "for i in range(1,7):\n",
        "    table.append([set(itemset) for itemset in MinSup(3) if len(itemset)==i])\n",
        "num = 0\n",
        "closed_itemsets =[]\n",
        "for i in range(6):\n",
        "    for itemset in table[i]:\n",
        "        flag=True\n",
        "        for superset in table[i+1]:\n",
        "            if set(itemset).issubset(set(superset)) and (support(itemset) == support(superset)):\n",
        "                flag=False\n",
        "                break\n",
        "        if flag:\n",
        "            num+=1\n",
        "            closed_itemsets.append(sorted(list(itemset)))\n"
      ],
      "execution_count": 181,
      "outputs": []
    },
    {
      "cell_type": "code",
      "metadata": {
        "colab": {
          "base_uri": "https://localhost:8080/"
        },
        "id": "7-m6G9dSShEk",
        "outputId": "8b694d66-a54a-4cea-e7cd-45c6bb6c9975"
      },
      "source": [
        "print(num)"
      ],
      "execution_count": 182,
      "outputs": [
        {
          "output_type": "stream",
          "text": [
            "26\n"
          ],
          "name": "stdout"
        }
      ]
    },
    {
      "cell_type": "markdown",
      "metadata": {
        "id": "XARbFUOh3rjp"
      },
      "source": [
        "**5D**"
      ]
    },
    {
      "cell_type": "code",
      "metadata": {
        "colab": {
          "base_uri": "https://localhost:8080/"
        },
        "id": "xGQtxfc73tjT",
        "outputId": "af491858-7728-4fc7-cc21-63ebcdfd8931"
      },
      "source": [
        "print(closed_itemsets)"
      ],
      "execution_count": 183,
      "outputs": [
        {
          "output_type": "stream",
          "text": [
            "[['A'], ['B'], ['C'], ['D'], ['E'], ['F'], ['A', 'B'], ['A', 'D'], ['A', 'F'], ['B', 'C'], ['B', 'D'], ['B', 'E'], ['B', 'F'], ['C', 'E'], ['C', 'F'], ['D', 'E'], ['E', 'F'], ['A', 'B', 'D'], ['A', 'B', 'E'], ['A', 'C', 'F'], ['A', 'D', 'F'], ['B', 'C', 'E'], ['B', 'C', 'F'], ['B', 'E', 'F'], ['C', 'E', 'F'], ['A', 'B', 'C', 'F']]\n"
          ],
          "name": "stdout"
        }
      ]
    },
    {
      "cell_type": "markdown",
      "metadata": {
        "id": "hkq5zsED4J3i"
      },
      "source": [
        "# 4.Generate Rules"
      ]
    },
    {
      "cell_type": "markdown",
      "metadata": {
        "id": "ZxuEuVCZ7WtS"
      },
      "source": [
        "**1B**"
      ]
    },
    {
      "cell_type": "code",
      "metadata": {
        "colab": {
          "base_uri": "https://localhost:8080/"
        },
        "id": "jEoac-6b46VP",
        "outputId": "341af055-39b4-459b-c3f2-fc1a138ccc0c"
      },
      "source": [
        "# since we have already checked there is a row containing all item, the final answer should be 602 which is consistant with the previous part\n",
        "rules = {}\n",
        "for transaction in transactions:\n",
        "    for itemset in powerset(transaction):\n",
        "      if len(itemset)!=0:\n",
        "        if tuple(itemset) not in rules:\n",
        "          rules[tuple(itemset)]=[]\n",
        "        for item in powerset(list(set(transaction)-set(itemset))):\n",
        "          if set(item) not in rules[tuple(itemset)] and len(item)!=0:\n",
        "            rules[tuple(itemset)].append(set(item)) \n",
        "\n",
        "n=0\n",
        "for key in rules.copy():\n",
        "    if rules[key] == []:\n",
        "        del rules[key]\n",
        "    else:\n",
        "        n+=len(rules[key])\n",
        "n"
      ],
      "execution_count": 130,
      "outputs": [
        {
          "output_type": "execute_result",
          "data": {
            "text/plain": [
              "602"
            ]
          },
          "metadata": {
            "tags": []
          },
          "execution_count": 130
        }
      ]
    },
    {
      "cell_type": "markdown",
      "metadata": {
        "id": "dHghX0j9_sUB"
      },
      "source": [
        "**2C**"
      ]
    },
    {
      "cell_type": "code",
      "metadata": {
        "colab": {
          "base_uri": "https://localhost:8080/"
        },
        "id": "4kOrs0wB8Pd7",
        "outputId": "1bf814d7-fd6f-43bb-bb58-795759777a25"
      },
      "source": [
        "rules2a = {}\n",
        "for itemset in powerset(['B','C','F']):\n",
        "  if len(itemset)!=0:\n",
        "    rules2a[tuple(itemset)] = []\n",
        "    for item in powerset(list(set(['B','C','F'])-set(itemset))):\n",
        "      if len(item)!=0:\n",
        "        rules2a[tuple(itemset)].append(set(item))\n",
        "\n",
        "n = 0\n",
        "for key in rules2a:\n",
        "  n = n + len(rules2a[key])\n",
        "n"
      ],
      "execution_count": 131,
      "outputs": [
        {
          "output_type": "execute_result",
          "data": {
            "text/plain": [
              "12"
            ]
          },
          "metadata": {
            "tags": []
          },
          "execution_count": 131
        }
      ]
    },
    {
      "cell_type": "code",
      "metadata": {
        "colab": {
          "base_uri": "https://localhost:8080/"
        },
        "id": "gMe2p82d8QSP",
        "outputId": "ae58fba4-360b-41e3-88a8-ff7187e40be5"
      },
      "source": [
        "for key in sorted(rules2a,key = len):\n",
        "  for item in sorted(rules2a[key]):\n",
        "    print(key,\"->\",item)"
      ],
      "execution_count": 132,
      "outputs": [
        {
          "output_type": "stream",
          "text": [
            "('B',) -> {'F'}\n",
            "('B',) -> {'C'}\n",
            "('B',) -> {'F', 'C'}\n",
            "('C',) -> {'B'}\n",
            "('C',) -> {'F'}\n",
            "('C',) -> {'B', 'F'}\n",
            "('F',) -> {'B'}\n",
            "('F',) -> {'C'}\n",
            "('F',) -> {'B', 'C'}\n",
            "('B', 'C') -> {'F'}\n",
            "('B', 'F') -> {'C'}\n",
            "('C', 'F') -> {'B'}\n"
          ],
          "name": "stdout"
        }
      ]
    },
    {
      "cell_type": "code",
      "metadata": {
        "colab": {
          "base_uri": "https://localhost:8080/"
        },
        "id": "noeYz5E2ALfP",
        "outputId": "3339f0f0-b8f6-4db1-9867-721993ad2c6b"
      },
      "source": [
        "MinConf = []\n",
        "for rule in rules[('B','C','F')]:\n",
        "    if support(rule)/support(('B','C','F'))>=0.75:\n",
        "        MinConf.append(set(rule))\n",
        "print(len(MinConf))"
      ],
      "execution_count": 133,
      "outputs": [
        {
          "output_type": "stream",
          "text": [
            "3\n"
          ],
          "name": "stdout"
        }
      ]
    },
    {
      "cell_type": "markdown",
      "metadata": {
        "id": "kn0vUxGUAPD6"
      },
      "source": [
        "**3B**"
      ]
    },
    {
      "cell_type": "code",
      "metadata": {
        "colab": {
          "base_uri": "https://localhost:8080/"
        },
        "id": "nCwZ8JcDARXo",
        "outputId": "9c7ed36c-070f-430a-c0a7-42a5db12c11e"
      },
      "source": [
        "for rule in MinConf:\n",
        "    print(\"{'B','C','F'}->\",set(rule))"
      ],
      "execution_count": 134,
      "outputs": [
        {
          "output_type": "stream",
          "text": [
            "{'B','C','F'}-> {'A'}\n",
            "{'B','C','F'}-> {'E'}\n",
            "{'B','C','F'}-> {'D'}\n"
          ],
          "name": "stdout"
        }
      ]
    },
    {
      "cell_type": "markdown",
      "metadata": {
        "id": "FBPBHTuO4MRQ"
      },
      "source": [
        "# 5.Evaluate Rules"
      ]
    },
    {
      "cell_type": "markdown",
      "metadata": {
        "id": "ZnbiWQksGjf4"
      },
      "source": [
        "**1B**"
      ]
    },
    {
      "cell_type": "code",
      "metadata": {
        "colab": {
          "base_uri": "https://localhost:8080/"
        },
        "id": "kueUMlcmGmrr",
        "outputId": "1c63730d-51a0-4bc7-f508-bf6d940190b9"
      },
      "source": [
        "flag=False\n",
        "for key in rules:\n",
        "  if not flag:\n",
        "    for rule in rules[key]:\n",
        "        lift = (support(set(key).union(set(rule)))/support(set(key)))/(support(set(rule))/len(transactions))\n",
        "        if lift > 1:\n",
        "            print(lift,key,'->',rule)\n",
        "            flag = True\n",
        "            break\n"
      ],
      "execution_count": 135,
      "outputs": [
        {
          "output_type": "stream",
          "text": [
            "1.1764705882352942 ('D',) -> {'A'}\n"
          ],
          "name": "stdout"
        }
      ]
    },
    {
      "cell_type": "markdown",
      "metadata": {
        "id": "3kTHyOlvGzDo"
      },
      "source": [
        "**2B**"
      ]
    },
    {
      "cell_type": "code",
      "metadata": {
        "colab": {
          "base_uri": "https://localhost:8080/"
        },
        "id": "T7B5wipBGzMt",
        "outputId": "7b8d9bee-0554-4116-a0a1-2973c87223be"
      },
      "source": [
        "flag=False\n",
        "for key in rules:\n",
        "  if not flag:\n",
        "    for rule in rules[key]:\n",
        "        lift = (support(set(key).union(set(rule)))/support(set(key)))/(support(set(rule))/len(transactions))\n",
        "        if lift < 1:\n",
        "            print(lift,key,'->',rule)\n",
        "            flag = True\n",
        "            break"
      ],
      "execution_count": 136,
      "outputs": [
        {
          "output_type": "stream",
          "text": [
            "0.4310344827586207 ('D',) -> {'B'}\n"
          ],
          "name": "stdout"
        }
      ]
    },
    {
      "cell_type": "markdown",
      "metadata": {
        "id": "KRxWVFKS4Nvd"
      },
      "source": [
        "# 6.Evaluate Support Distribution "
      ]
    },
    {
      "cell_type": "markdown",
      "metadata": {
        "id": "BQBOVzDWM7Lz"
      },
      "source": [
        "**1B**"
      ]
    },
    {
      "cell_type": "code",
      "metadata": {
        "colab": {
          "base_uri": "https://localhost:8080/"
        },
        "id": "H1g6OwcNNC4B",
        "outputId": "92df8572-82af-4540-ecef-dc67cf5421c1"
      },
      "source": [
        "X = ['B','C','F']\n",
        "l = []\n",
        "for x in X:\n",
        "  l.append(support(x))\n",
        "np.min(l)/np.max(l)"
      ],
      "execution_count": 151,
      "outputs": [
        {
          "output_type": "execute_result",
          "data": {
            "text/plain": [
              "0.7241379310344828"
            ]
          },
          "metadata": {
            "tags": []
          },
          "execution_count": 151
        }
      ]
    },
    {
      "cell_type": "markdown",
      "metadata": {
        "id": "WLybMuuVM97D"
      },
      "source": [
        "**2B**"
      ]
    },
    {
      "cell_type": "code",
      "metadata": {
        "colab": {
          "base_uri": "https://localhost:8080/"
        },
        "id": "M_xaLNpbNza7",
        "outputId": "ed05b43b-88c3-45fb-cffb-09419a931280"
      },
      "source": [
        "support(X)/np.max(l)"
      ],
      "execution_count": 153,
      "outputs": [
        {
          "output_type": "execute_result",
          "data": {
            "text/plain": [
              "0.41379310344827586"
            ]
          },
          "metadata": {
            "tags": []
          },
          "execution_count": 153
        }
      ]
    }
  ]
}
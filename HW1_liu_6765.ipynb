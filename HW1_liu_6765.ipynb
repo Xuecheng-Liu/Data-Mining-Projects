{
  "nbformat": 4,
  "nbformat_minor": 0,
  "metadata": {
    "kernelspec": {
      "display_name": "Python 3",
      "language": "python",
      "name": "python3"
    },
    "language_info": {
      "codemirror_mode": {
        "name": "ipython",
        "version": 3
      },
      "file_extension": ".py",
      "mimetype": "text/x-python",
      "name": "python",
      "nbconvert_exporter": "python",
      "pygments_lexer": "ipython3",
      "version": "3.7.7"
    },
    "latex_envs": {
      "LaTeX_envs_menu_present": true,
      "autoclose": false,
      "autocomplete": true,
      "bibliofile": "biblio.bib",
      "cite_by": "apalike",
      "current_citInitial": 1,
      "eqLabelWithNumbers": true,
      "eqNumInitial": 1,
      "hotkeys": {
        "equation": "Ctrl-E",
        "itemize": "Ctrl-I"
      },
      "labels_anchors": false,
      "latex_user_defs": false,
      "report_style_numbering": false,
      "user_envs_cfg": false
    },
    "colab": {
      "name": "HW1_liu.6765.ipynb",
      "provenance": [],
      "collapsed_sections": []
    }
  },
  "cells": [
    {
      "cell_type": "markdown",
      "metadata": {
        "id": "QwJGryUHdUz9"
      },
      "source": [
        "# CSE 5243 - Introduction to Data Mining\n",
        "## Homework 1: Exploratory Data Analysis\n",
        "- Semester: Spring 2021\n",
        "- Instructor:  Davis Buenger\n",
        "- Section: Tuesday/Thursday 5:30 PM\n",
        "- Student Name: Xuecheng Liu\n",
        "- Student Email: liu.6765@osu.edu\n",
        "- Student ID: 500244459\n",
        "\n"
      ]
    },
    {
      "cell_type": "markdown",
      "metadata": {
        "id": "hJMLT6WSdUz-"
      },
      "source": [
        "***\n",
        "# Section: Overview\n",
        "- This lab aims to explore a particular dataset and perform some exploratory data analysis techniques.\n",
        "***"
      ]
    },
    {
      "cell_type": "markdown",
      "metadata": {
        "id": "Tfgb7BT2dUz_"
      },
      "source": [
        "***\n",
        "# Section: Setup\n",
        "- Add any needed imports, helper functions, etc., here.\n",
        "***"
      ]
    },
    {
      "cell_type": "code",
      "metadata": {
        "id": "yDKWmvCZdUz_"
      },
      "source": [
        "import numpy as np\r\n",
        "import pandas as pd\r\n",
        "\r\n",
        "import matplotlib.pyplot as plt\r\n",
        "import seaborn as sns"
      ],
      "execution_count": 59,
      "outputs": []
    },
    {
      "cell_type": "markdown",
      "metadata": {
        "id": "iIZk8pfGdUz_"
      },
      "source": [
        "***\n",
        "# Section: 1 - Business Understanding\n",
        "The data is pulled from the website \"Our world in data\", and is about Coronavirus Source Data which is published by Hannah Ritchie. This data relies on data from Jhon's Hopkins University.<br>\n",
        "Each row represent the situation of COVID-19 cases in a particular location in a certain day. Successive rows represent how the cases change day by day for a particular location.<br>\n",
        "The data is collected to order to allow millions of people around the world to track the evolution of this pandemic and perform certain analysis in order to better understand the worldwide trend. The data is collected multiple times per day from government,national and subnational agencies.<br>\n",
        "For me, I would like to analyze the general trend of the growth of cases in each place and consider the reasons for such change, i.e. government policy. Also, it would be helpful to see how the cases across different places relate with each other.\n",
        "\n",
        "\n"
      ]
    },
    {
      "cell_type": "code",
      "metadata": {
        "id": "9xDLCr-KdUz_"
      },
      "source": [
        ""
      ],
      "execution_count": null,
      "outputs": []
    },
    {
      "cell_type": "markdown",
      "metadata": {
        "id": "Hklr_L7fdU0A"
      },
      "source": [
        "***\n",
        "# Section: 2 - Data Understanding\n",
        "- Perform exploratory data analysis of the dataset by looking at individual attributes and/or combinations of attributes. You should focus on identifying and describing interesting observations and insights that you might uncover from the data.\n",
        "- You should not simply provide the basic EDA information for all attributes in the data. Instead, you should focus on those that are more interesting or important, and provide some discussion of what you observe. Pay particular attention to potentially interesting bivariate (two-variable) relationships, as well as the relationship between each attribute and the class.\n",
        "***"
      ]
    },
    {
      "cell_type": "markdown",
      "metadata": {
        "id": "SwXj2mzng_zM"
      },
      "source": [
        "Firstly, I will read the data and get a glance of what it looks like"
      ]
    },
    {
      "cell_type": "code",
      "metadata": {
        "id": "fAou39PpdU0A"
      },
      "source": [
        "df = pd.read_excel('ALTERED owid-covid-data.xlsx', sheet_name='ALTERED owid-covid-data')"
      ],
      "execution_count": 206,
      "outputs": []
    },
    {
      "cell_type": "code",
      "metadata": {
        "colab": {
          "base_uri": "https://localhost:8080/",
          "height": 309
        },
        "id": "9Idg8Y8FdEKl",
        "outputId": "0b0141dd-133b-4702-910d-25e5a5eda77d"
      },
      "source": [
        "df.head()"
      ],
      "execution_count": 62,
      "outputs": [
        {
          "output_type": "execute_result",
          "data": {
            "text/html": [
              "<div>\n",
              "<style scoped>\n",
              "    .dataframe tbody tr th:only-of-type {\n",
              "        vertical-align: middle;\n",
              "    }\n",
              "\n",
              "    .dataframe tbody tr th {\n",
              "        vertical-align: top;\n",
              "    }\n",
              "\n",
              "    .dataframe thead th {\n",
              "        text-align: right;\n",
              "    }\n",
              "</style>\n",
              "<table border=\"1\" class=\"dataframe\">\n",
              "  <thead>\n",
              "    <tr style=\"text-align: right;\">\n",
              "      <th></th>\n",
              "      <th>RECID</th>\n",
              "      <th>iso_code</th>\n",
              "      <th>continent</th>\n",
              "      <th>location</th>\n",
              "      <th>date</th>\n",
              "      <th>total_cases</th>\n",
              "      <th>new_cases</th>\n",
              "      <th>new_cases_smoothed</th>\n",
              "      <th>total_deaths</th>\n",
              "      <th>new_deaths</th>\n",
              "      <th>new_deaths_smoothed</th>\n",
              "      <th>total_cases_per_million</th>\n",
              "      <th>new_cases_per_million</th>\n",
              "      <th>new_cases_smoothed_per_million</th>\n",
              "      <th>total_deaths_per_million</th>\n",
              "      <th>new_deaths_per_million</th>\n",
              "      <th>new_deaths_smoothed_per_million</th>\n",
              "      <th>new_tests</th>\n",
              "      <th>total_tests</th>\n",
              "      <th>total_tests_per_thousand</th>\n",
              "      <th>new_tests_per_thousand</th>\n",
              "      <th>new_tests_smoothed</th>\n",
              "      <th>new_tests_smoothed_per_thousand</th>\n",
              "      <th>tests_per_case</th>\n",
              "      <th>positive_rate</th>\n",
              "      <th>tests_units</th>\n",
              "      <th>stringency_index</th>\n",
              "      <th>population</th>\n",
              "      <th>population_density</th>\n",
              "      <th>median_age</th>\n",
              "      <th>aged_65_older</th>\n",
              "      <th>aged_70_older</th>\n",
              "      <th>gdp_per_capita</th>\n",
              "      <th>extreme_poverty</th>\n",
              "      <th>cardiovasc_death_rate</th>\n",
              "      <th>diabetes_prevalence</th>\n",
              "      <th>female_smokers</th>\n",
              "      <th>male_smokers</th>\n",
              "      <th>handwashing_facilities</th>\n",
              "      <th>hospital_beds_per_thousand</th>\n",
              "      <th>life_expectancy</th>\n",
              "      <th>NEW_CASE_TREND</th>\n",
              "    </tr>\n",
              "  </thead>\n",
              "  <tbody>\n",
              "    <tr>\n",
              "      <th>0</th>\n",
              "      <td>1</td>\n",
              "      <td>AFG</td>\n",
              "      <td>Asia</td>\n",
              "      <td>Afghanistan</td>\n",
              "      <td>2019-12-31</td>\n",
              "      <td>0.0</td>\n",
              "      <td>0.0</td>\n",
              "      <td>NaN</td>\n",
              "      <td>0.0</td>\n",
              "      <td>0.0</td>\n",
              "      <td>NaN</td>\n",
              "      <td>0.0</td>\n",
              "      <td>0.0</td>\n",
              "      <td>NaN</td>\n",
              "      <td>0.0</td>\n",
              "      <td>0.0</td>\n",
              "      <td>NaN</td>\n",
              "      <td>NaN</td>\n",
              "      <td>NaN</td>\n",
              "      <td>NaN</td>\n",
              "      <td>NaN</td>\n",
              "      <td>NaN</td>\n",
              "      <td>NaN</td>\n",
              "      <td>NaN</td>\n",
              "      <td>NaN</td>\n",
              "      <td>NaN</td>\n",
              "      <td>NaN</td>\n",
              "      <td>38928341.0</td>\n",
              "      <td>54.422</td>\n",
              "      <td>18.6</td>\n",
              "      <td>2.581</td>\n",
              "      <td>1.337</td>\n",
              "      <td>1803.987</td>\n",
              "      <td>NaN</td>\n",
              "      <td>597.029</td>\n",
              "      <td>9.59</td>\n",
              "      <td>NaN</td>\n",
              "      <td>NaN</td>\n",
              "      <td>37.746</td>\n",
              "      <td>0.5</td>\n",
              "      <td>64.83</td>\n",
              "      <td>NaN</td>\n",
              "    </tr>\n",
              "    <tr>\n",
              "      <th>1</th>\n",
              "      <td>2</td>\n",
              "      <td>AFG</td>\n",
              "      <td>Asia</td>\n",
              "      <td>Afghanistan</td>\n",
              "      <td>2020-01-01</td>\n",
              "      <td>0.0</td>\n",
              "      <td>0.0</td>\n",
              "      <td>NaN</td>\n",
              "      <td>0.0</td>\n",
              "      <td>0.0</td>\n",
              "      <td>NaN</td>\n",
              "      <td>0.0</td>\n",
              "      <td>0.0</td>\n",
              "      <td>NaN</td>\n",
              "      <td>0.0</td>\n",
              "      <td>0.0</td>\n",
              "      <td>NaN</td>\n",
              "      <td>NaN</td>\n",
              "      <td>NaN</td>\n",
              "      <td>NaN</td>\n",
              "      <td>NaN</td>\n",
              "      <td>NaN</td>\n",
              "      <td>NaN</td>\n",
              "      <td>NaN</td>\n",
              "      <td>NaN</td>\n",
              "      <td>NaN</td>\n",
              "      <td>0.0</td>\n",
              "      <td>38928341.0</td>\n",
              "      <td>54.422</td>\n",
              "      <td>18.6</td>\n",
              "      <td>2.581</td>\n",
              "      <td>1.337</td>\n",
              "      <td>1803.987</td>\n",
              "      <td>NaN</td>\n",
              "      <td>597.029</td>\n",
              "      <td>9.59</td>\n",
              "      <td>NaN</td>\n",
              "      <td>NaN</td>\n",
              "      <td>37.746</td>\n",
              "      <td>0.5</td>\n",
              "      <td>64.83</td>\n",
              "      <td>NaN</td>\n",
              "    </tr>\n",
              "    <tr>\n",
              "      <th>2</th>\n",
              "      <td>3</td>\n",
              "      <td>AFG</td>\n",
              "      <td>Asia</td>\n",
              "      <td>Afghanistan</td>\n",
              "      <td>2020-01-02</td>\n",
              "      <td>0.0</td>\n",
              "      <td>0.0</td>\n",
              "      <td>NaN</td>\n",
              "      <td>0.0</td>\n",
              "      <td>0.0</td>\n",
              "      <td>NaN</td>\n",
              "      <td>0.0</td>\n",
              "      <td>0.0</td>\n",
              "      <td>NaN</td>\n",
              "      <td>0.0</td>\n",
              "      <td>0.0</td>\n",
              "      <td>NaN</td>\n",
              "      <td>NaN</td>\n",
              "      <td>NaN</td>\n",
              "      <td>NaN</td>\n",
              "      <td>NaN</td>\n",
              "      <td>NaN</td>\n",
              "      <td>NaN</td>\n",
              "      <td>NaN</td>\n",
              "      <td>NaN</td>\n",
              "      <td>NaN</td>\n",
              "      <td>0.0</td>\n",
              "      <td>38928341.0</td>\n",
              "      <td>54.422</td>\n",
              "      <td>18.6</td>\n",
              "      <td>2.581</td>\n",
              "      <td>1.337</td>\n",
              "      <td>1803.987</td>\n",
              "      <td>NaN</td>\n",
              "      <td>597.029</td>\n",
              "      <td>9.59</td>\n",
              "      <td>NaN</td>\n",
              "      <td>NaN</td>\n",
              "      <td>37.746</td>\n",
              "      <td>0.5</td>\n",
              "      <td>64.83</td>\n",
              "      <td>NaN</td>\n",
              "    </tr>\n",
              "    <tr>\n",
              "      <th>3</th>\n",
              "      <td>4</td>\n",
              "      <td>AFG</td>\n",
              "      <td>Asia</td>\n",
              "      <td>Afghanistan</td>\n",
              "      <td>2020-01-03</td>\n",
              "      <td>0.0</td>\n",
              "      <td>0.0</td>\n",
              "      <td>NaN</td>\n",
              "      <td>0.0</td>\n",
              "      <td>0.0</td>\n",
              "      <td>NaN</td>\n",
              "      <td>0.0</td>\n",
              "      <td>0.0</td>\n",
              "      <td>NaN</td>\n",
              "      <td>0.0</td>\n",
              "      <td>0.0</td>\n",
              "      <td>NaN</td>\n",
              "      <td>NaN</td>\n",
              "      <td>NaN</td>\n",
              "      <td>NaN</td>\n",
              "      <td>NaN</td>\n",
              "      <td>NaN</td>\n",
              "      <td>NaN</td>\n",
              "      <td>NaN</td>\n",
              "      <td>NaN</td>\n",
              "      <td>NaN</td>\n",
              "      <td>0.0</td>\n",
              "      <td>38928341.0</td>\n",
              "      <td>54.422</td>\n",
              "      <td>18.6</td>\n",
              "      <td>2.581</td>\n",
              "      <td>1.337</td>\n",
              "      <td>1803.987</td>\n",
              "      <td>NaN</td>\n",
              "      <td>597.029</td>\n",
              "      <td>9.59</td>\n",
              "      <td>NaN</td>\n",
              "      <td>NaN</td>\n",
              "      <td>37.746</td>\n",
              "      <td>0.5</td>\n",
              "      <td>64.83</td>\n",
              "      <td>NaN</td>\n",
              "    </tr>\n",
              "    <tr>\n",
              "      <th>4</th>\n",
              "      <td>5</td>\n",
              "      <td>AFG</td>\n",
              "      <td>Asia</td>\n",
              "      <td>Afghanistan</td>\n",
              "      <td>2020-01-04</td>\n",
              "      <td>0.0</td>\n",
              "      <td>0.0</td>\n",
              "      <td>NaN</td>\n",
              "      <td>0.0</td>\n",
              "      <td>0.0</td>\n",
              "      <td>NaN</td>\n",
              "      <td>0.0</td>\n",
              "      <td>0.0</td>\n",
              "      <td>NaN</td>\n",
              "      <td>0.0</td>\n",
              "      <td>0.0</td>\n",
              "      <td>NaN</td>\n",
              "      <td>NaN</td>\n",
              "      <td>NaN</td>\n",
              "      <td>NaN</td>\n",
              "      <td>NaN</td>\n",
              "      <td>NaN</td>\n",
              "      <td>NaN</td>\n",
              "      <td>NaN</td>\n",
              "      <td>NaN</td>\n",
              "      <td>NaN</td>\n",
              "      <td>0.0</td>\n",
              "      <td>38928341.0</td>\n",
              "      <td>54.422</td>\n",
              "      <td>18.6</td>\n",
              "      <td>2.581</td>\n",
              "      <td>1.337</td>\n",
              "      <td>1803.987</td>\n",
              "      <td>NaN</td>\n",
              "      <td>597.029</td>\n",
              "      <td>9.59</td>\n",
              "      <td>NaN</td>\n",
              "      <td>NaN</td>\n",
              "      <td>37.746</td>\n",
              "      <td>0.5</td>\n",
              "      <td>64.83</td>\n",
              "      <td>NaN</td>\n",
              "    </tr>\n",
              "  </tbody>\n",
              "</table>\n",
              "</div>"
            ],
            "text/plain": [
              "   RECID iso_code  ... life_expectancy NEW_CASE_TREND\n",
              "0      1      AFG  ...           64.83            NaN\n",
              "1      2      AFG  ...           64.83            NaN\n",
              "2      3      AFG  ...           64.83            NaN\n",
              "3      4      AFG  ...           64.83            NaN\n",
              "4      5      AFG  ...           64.83            NaN\n",
              "\n",
              "[5 rows x 42 columns]"
            ]
          },
          "metadata": {
            "tags": []
          },
          "execution_count": 62
        }
      ]
    },
    {
      "cell_type": "markdown",
      "metadata": {
        "id": "IBdbv9AkdU0A"
      },
      "source": [
        "***\n",
        "## Section: 2.1 - Describe the meaning and type of data for each attribute.\n",
        "***"
      ]
    },
    {
      "cell_type": "markdown",
      "metadata": {
        "id": "weGkDQWng9HG"
      },
      "source": [
        "I will list all the attributes and then look at them one by one."
      ]
    },
    {
      "cell_type": "code",
      "metadata": {
        "colab": {
          "base_uri": "https://localhost:8080/"
        },
        "id": "u-NTyeKCdU0A",
        "outputId": "445a5a4f-57f9-4c41-8092-4d8d019a3102"
      },
      "source": [
        "df.columns.value_counts()"
      ],
      "execution_count": 34,
      "outputs": [
        {
          "output_type": "execute_result",
          "data": {
            "text/plain": [
              "iso_code                           1\n",
              "new_cases_per_million              1\n",
              "new_deaths_smoothed_per_million    1\n",
              "new_cases_smoothed                 1\n",
              "positive_rate                      1\n",
              "population_density                 1\n",
              "extreme_poverty                    1\n",
              "life_expectancy                    1\n",
              "total_tests_per_thousand           1\n",
              "RECID                              1\n",
              "new_cases_smoothed_per_million     1\n",
              "new_deaths_per_million             1\n",
              "diabetes_prevalence                1\n",
              "population                         1\n",
              "median_age                         1\n",
              "total_cases_per_million            1\n",
              "gdp_per_capita                     1\n",
              "new_deaths                         1\n",
              "male_smokers                       1\n",
              "NEW_CASE_TREND                     1\n",
              "female_smokers                     1\n",
              "aged_65_older                      1\n",
              "new_deaths_smoothed                1\n",
              "tests_per_case                     1\n",
              "new_tests_smoothed                 1\n",
              "new_tests_per_thousand             1\n",
              "tests_units                        1\n",
              "new_cases                          1\n",
              "total_deaths                       1\n",
              "total_tests                        1\n",
              "total_cases                        1\n",
              "new_tests                          1\n",
              "total_deaths_per_million           1\n",
              "new_tests_smoothed_per_thousand    1\n",
              "continent                          1\n",
              "date                               1\n",
              "stringency_index                   1\n",
              "hospital_beds_per_thousand         1\n",
              "handwashing_facilities             1\n",
              "aged_70_older                      1\n",
              "cardiovasc_death_rate              1\n",
              "location                           1\n",
              "dtype: int64"
            ]
          },
          "metadata": {
            "tags": []
          },
          "execution_count": 34
        }
      ]
    },
    {
      "cell_type": "markdown",
      "metadata": {
        "id": "XXLF2BkOibGP"
      },
      "source": [
        "This part will be lengthy and will cover meaning and type of data for each attribute, so be patient. If the attribute name is exactly what it means, I will not talk about what it means."
      ]
    },
    {
      "cell_type": "markdown",
      "metadata": {
        "id": "ohWKeBBRixkZ"
      },
      "source": [
        "<li>RECID is nominal.\r\n",
        "<li>iso_code means currency code and it is Nominal. \r\n",
        "<li>Continent is Nominal. \r\n",
        "<li>Location is Nominal.\r\n",
        "<li>date is Interval\r\n",
        "<li>total_cases is ratio\r\n",
        "<li>new_cases is ratio \r\n",
        "<li>new_cases_smoothed is ratio\r\n",
        "<li>total_deaths is ratio\r\n",
        "<li>new_deaths is ratio\r\n",
        "<li>new_deaths_smoothed is ratio\r\n",
        "<li>...<br>\r\n",
        "As you can see, most of the attributes are ratio. In order to save space and not be redundant,I will talk about those which are not ratio variables.\r\n",
        "<li>test_units: This is very unclear and includes missing values.I would label it as nominal\r\n",
        "<li>NEW_CASE_TREND is Ordinal"
      ]
    },
    {
      "cell_type": "markdown",
      "metadata": {
        "id": "UibCpq5rdU0B"
      },
      "source": [
        "***\n",
        "## Section: 2.2 - Provide basic statistics for the attributes.\n",
        "- For example: counts, percentiles, mean, median, standard deviation. The statistics should be relevant for the type of attribute.\n",
        "***"
      ]
    },
    {
      "cell_type": "markdown",
      "metadata": {
        "id": "8sET6uY4PFek"
      },
      "source": [
        "I first exam the quantiles for each of the attribute. Some of the result might not make sense, such as nominal attributes, but it gives a good sense about the distribution of each attribute."
      ]
    },
    {
      "cell_type": "code",
      "metadata": {
        "colab": {
          "base_uri": "https://localhost:8080/",
          "height": 348
        },
        "id": "S2K8l-oedU0B",
        "outputId": "87be348f-6733-4a29-f6b5-1b38a2940451"
      },
      "source": [
        "df.quantile(q = [0,0.01,0.1,0.25,0.5,0.75,0.9,0.99,1])"
      ],
      "execution_count": 66,
      "outputs": [
        {
          "output_type": "execute_result",
          "data": {
            "text/html": [
              "<div>\n",
              "<style scoped>\n",
              "    .dataframe tbody tr th:only-of-type {\n",
              "        vertical-align: middle;\n",
              "    }\n",
              "\n",
              "    .dataframe tbody tr th {\n",
              "        vertical-align: top;\n",
              "    }\n",
              "\n",
              "    .dataframe thead th {\n",
              "        text-align: right;\n",
              "    }\n",
              "</style>\n",
              "<table border=\"1\" class=\"dataframe\">\n",
              "  <thead>\n",
              "    <tr style=\"text-align: right;\">\n",
              "      <th></th>\n",
              "      <th>RECID</th>\n",
              "      <th>total_cases</th>\n",
              "      <th>new_cases</th>\n",
              "      <th>new_cases_smoothed</th>\n",
              "      <th>total_deaths</th>\n",
              "      <th>new_deaths</th>\n",
              "      <th>new_deaths_smoothed</th>\n",
              "      <th>total_cases_per_million</th>\n",
              "      <th>new_cases_per_million</th>\n",
              "      <th>new_cases_smoothed_per_million</th>\n",
              "      <th>total_deaths_per_million</th>\n",
              "      <th>new_deaths_per_million</th>\n",
              "      <th>new_deaths_smoothed_per_million</th>\n",
              "      <th>new_tests</th>\n",
              "      <th>total_tests</th>\n",
              "      <th>total_tests_per_thousand</th>\n",
              "      <th>new_tests_per_thousand</th>\n",
              "      <th>new_tests_smoothed</th>\n",
              "      <th>new_tests_smoothed_per_thousand</th>\n",
              "      <th>tests_per_case</th>\n",
              "      <th>positive_rate</th>\n",
              "      <th>stringency_index</th>\n",
              "      <th>population</th>\n",
              "      <th>population_density</th>\n",
              "      <th>median_age</th>\n",
              "      <th>aged_65_older</th>\n",
              "      <th>aged_70_older</th>\n",
              "      <th>gdp_per_capita</th>\n",
              "      <th>extreme_poverty</th>\n",
              "      <th>cardiovasc_death_rate</th>\n",
              "      <th>diabetes_prevalence</th>\n",
              "      <th>female_smokers</th>\n",
              "      <th>male_smokers</th>\n",
              "      <th>handwashing_facilities</th>\n",
              "      <th>hospital_beds_per_thousand</th>\n",
              "      <th>life_expectancy</th>\n",
              "    </tr>\n",
              "  </thead>\n",
              "  <tbody>\n",
              "    <tr>\n",
              "      <th>0.00</th>\n",
              "      <td>1.00</td>\n",
              "      <td>0.00</td>\n",
              "      <td>-8261.00</td>\n",
              "      <td>-552.000</td>\n",
              "      <td>0.00</td>\n",
              "      <td>-1918.00</td>\n",
              "      <td>-232.143</td>\n",
              "      <td>0.00000</td>\n",
              "      <td>-2212.54500</td>\n",
              "      <td>-269.9780</td>\n",
              "      <td>0.000</td>\n",
              "      <td>-67.90100</td>\n",
              "      <td>-9.67800</td>\n",
              "      <td>-3743.00</td>\n",
              "      <td>1.0</td>\n",
              "      <td>0.00000</td>\n",
              "      <td>-0.39800</td>\n",
              "      <td>0.00</td>\n",
              "      <td>0.00000</td>\n",
              "      <td>1.53500</td>\n",
              "      <td>0.000</td>\n",
              "      <td>0.00</td>\n",
              "      <td>8.090000e+02</td>\n",
              "      <td>0.137</td>\n",
              "      <td>15.1</td>\n",
              "      <td>1.144</td>\n",
              "      <td>0.526</td>\n",
              "      <td>661.240</td>\n",
              "      <td>0.1</td>\n",
              "      <td>79.370</td>\n",
              "      <td>0.99</td>\n",
              "      <td>0.100</td>\n",
              "      <td>7.7</td>\n",
              "      <td>1.188</td>\n",
              "      <td>0.10</td>\n",
              "      <td>53.28</td>\n",
              "    </tr>\n",
              "    <tr>\n",
              "      <th>0.01</th>\n",
              "      <td>427.48</td>\n",
              "      <td>0.00</td>\n",
              "      <td>0.00</td>\n",
              "      <td>0.000</td>\n",
              "      <td>0.00</td>\n",
              "      <td>0.00</td>\n",
              "      <td>0.000</td>\n",
              "      <td>0.00000</td>\n",
              "      <td>0.00000</td>\n",
              "      <td>0.0000</td>\n",
              "      <td>0.000</td>\n",
              "      <td>0.00000</td>\n",
              "      <td>0.00000</td>\n",
              "      <td>6.00</td>\n",
              "      <td>44.0</td>\n",
              "      <td>0.00200</td>\n",
              "      <td>0.00000</td>\n",
              "      <td>3.00</td>\n",
              "      <td>0.00000</td>\n",
              "      <td>2.14600</td>\n",
              "      <td>0.000</td>\n",
              "      <td>0.00</td>\n",
              "      <td>4.999000e+03</td>\n",
              "      <td>3.078</td>\n",
              "      <td>16.4</td>\n",
              "      <td>1.307</td>\n",
              "      <td>0.617</td>\n",
              "      <td>752.788</td>\n",
              "      <td>0.1</td>\n",
              "      <td>85.755</td>\n",
              "      <td>1.91</td>\n",
              "      <td>0.200</td>\n",
              "      <td>8.5</td>\n",
              "      <td>2.117</td>\n",
              "      <td>0.30</td>\n",
              "      <td>54.33</td>\n",
              "    </tr>\n",
              "    <tr>\n",
              "      <th>0.10</th>\n",
              "      <td>4265.80</td>\n",
              "      <td>3.00</td>\n",
              "      <td>0.00</td>\n",
              "      <td>0.000</td>\n",
              "      <td>0.00</td>\n",
              "      <td>0.00</td>\n",
              "      <td>0.000</td>\n",
              "      <td>0.23100</td>\n",
              "      <td>0.00000</td>\n",
              "      <td>0.0000</td>\n",
              "      <td>0.000</td>\n",
              "      <td>0.00000</td>\n",
              "      <td>0.00000</td>\n",
              "      <td>235.00</td>\n",
              "      <td>5002.4</td>\n",
              "      <td>0.27430</td>\n",
              "      <td>0.01400</td>\n",
              "      <td>301.70</td>\n",
              "      <td>0.01500</td>\n",
              "      <td>5.78930</td>\n",
              "      <td>0.002</td>\n",
              "      <td>11.11</td>\n",
              "      <td>9.834000e+04</td>\n",
              "      <td>15.322</td>\n",
              "      <td>18.8</td>\n",
              "      <td>2.751</td>\n",
              "      <td>1.530</td>\n",
              "      <td>1803.987</td>\n",
              "      <td>0.2</td>\n",
              "      <td>113.151</td>\n",
              "      <td>3.67</td>\n",
              "      <td>0.800</td>\n",
              "      <td>16.5</td>\n",
              "      <td>8.704</td>\n",
              "      <td>0.70</td>\n",
              "      <td>62.42</td>\n",
              "    </tr>\n",
              "    <tr>\n",
              "      <th>0.25</th>\n",
              "      <td>10663.00</td>\n",
              "      <td>43.00</td>\n",
              "      <td>0.00</td>\n",
              "      <td>0.429</td>\n",
              "      <td>0.00</td>\n",
              "      <td>0.00</td>\n",
              "      <td>0.000</td>\n",
              "      <td>20.15325</td>\n",
              "      <td>0.00000</td>\n",
              "      <td>0.1070</td>\n",
              "      <td>0.000</td>\n",
              "      <td>0.00000</td>\n",
              "      <td>0.00000</td>\n",
              "      <td>959.00</td>\n",
              "      <td>43467.0</td>\n",
              "      <td>2.53775</td>\n",
              "      <td>0.06000</td>\n",
              "      <td>1064.00</td>\n",
              "      <td>0.06275</td>\n",
              "      <td>12.48300</td>\n",
              "      <td>0.008</td>\n",
              "      <td>38.89</td>\n",
              "      <td>1.402985e+06</td>\n",
              "      <td>39.497</td>\n",
              "      <td>23.5</td>\n",
              "      <td>3.556</td>\n",
              "      <td>2.142</td>\n",
              "      <td>5591.597</td>\n",
              "      <td>0.5</td>\n",
              "      <td>153.507</td>\n",
              "      <td>5.31</td>\n",
              "      <td>1.900</td>\n",
              "      <td>21.4</td>\n",
              "      <td>21.222</td>\n",
              "      <td>1.30</td>\n",
              "      <td>69.91</td>\n",
              "    </tr>\n",
              "    <tr>\n",
              "      <th>0.50</th>\n",
              "      <td>21325.00</td>\n",
              "      <td>847.00</td>\n",
              "      <td>9.00</td>\n",
              "      <td>13.143</td>\n",
              "      <td>15.00</td>\n",
              "      <td>0.00</td>\n",
              "      <td>0.143</td>\n",
              "      <td>250.03100</td>\n",
              "      <td>1.33900</td>\n",
              "      <td>2.6490</td>\n",
              "      <td>4.146</td>\n",
              "      <td>0.00000</td>\n",
              "      <td>0.01600</td>\n",
              "      <td>3212.00</td>\n",
              "      <td>175733.5</td>\n",
              "      <td>13.24350</td>\n",
              "      <td>0.27800</td>\n",
              "      <td>3610.50</td>\n",
              "      <td>0.29900</td>\n",
              "      <td>35.12250</td>\n",
              "      <td>0.027</td>\n",
              "      <td>64.81</td>\n",
              "      <td>8.654618e+06</td>\n",
              "      <td>88.125</td>\n",
              "      <td>31.4</td>\n",
              "      <td>6.991</td>\n",
              "      <td>4.419</td>\n",
              "      <td>14103.452</td>\n",
              "      <td>1.8</td>\n",
              "      <td>237.372</td>\n",
              "      <td>7.11</td>\n",
              "      <td>6.434</td>\n",
              "      <td>31.4</td>\n",
              "      <td>55.182</td>\n",
              "      <td>2.50</td>\n",
              "      <td>75.49</td>\n",
              "    </tr>\n",
              "    <tr>\n",
              "      <th>0.75</th>\n",
              "      <td>31987.00</td>\n",
              "      <td>8928.00</td>\n",
              "      <td>145.00</td>\n",
              "      <td>151.000</td>\n",
              "      <td>191.00</td>\n",
              "      <td>3.00</td>\n",
              "      <td>2.857</td>\n",
              "      <td>1614.35550</td>\n",
              "      <td>15.21200</td>\n",
              "      <td>16.8610</td>\n",
              "      <td>30.635</td>\n",
              "      <td>0.18700</td>\n",
              "      <td>0.26400</td>\n",
              "      <td>11732.00</td>\n",
              "      <td>676345.0</td>\n",
              "      <td>54.30000</td>\n",
              "      <td>0.80100</td>\n",
              "      <td>12332.50</td>\n",
              "      <td>0.79700</td>\n",
              "      <td>113.02600</td>\n",
              "      <td>0.078</td>\n",
              "      <td>80.56</td>\n",
              "      <td>3.107294e+07</td>\n",
              "      <td>214.243</td>\n",
              "      <td>39.7</td>\n",
              "      <td>14.799</td>\n",
              "      <td>9.473</td>\n",
              "      <td>32415.132</td>\n",
              "      <td>16.0</td>\n",
              "      <td>318.949</td>\n",
              "      <td>10.18</td>\n",
              "      <td>19.600</td>\n",
              "      <td>40.9</td>\n",
              "      <td>83.741</td>\n",
              "      <td>4.20</td>\n",
              "      <td>79.93</td>\n",
              "    </tr>\n",
              "    <tr>\n",
              "      <th>0.90</th>\n",
              "      <td>38384.20</td>\n",
              "      <td>64508.90</td>\n",
              "      <td>841.00</td>\n",
              "      <td>846.714</td>\n",
              "      <td>1834.70</td>\n",
              "      <td>21.00</td>\n",
              "      <td>21.143</td>\n",
              "      <td>4628.21410</td>\n",
              "      <td>60.92270</td>\n",
              "      <td>63.7752</td>\n",
              "      <td>144.525</td>\n",
              "      <td>1.21900</td>\n",
              "      <td>1.37340</td>\n",
              "      <td>30200.10</td>\n",
              "      <td>2009409.2</td>\n",
              "      <td>127.96190</td>\n",
              "      <td>1.68200</td>\n",
              "      <td>33580.20</td>\n",
              "      <td>1.59400</td>\n",
              "      <td>355.68050</td>\n",
              "      <td>0.171</td>\n",
              "      <td>89.35</td>\n",
              "      <td>8.433907e+07</td>\n",
              "      <td>450.419</td>\n",
              "      <td>43.1</td>\n",
              "      <td>19.202</td>\n",
              "      <td>12.930</td>\n",
              "      <td>46949.283</td>\n",
              "      <td>43.7</td>\n",
              "      <td>423.031</td>\n",
              "      <td>13.17</td>\n",
              "      <td>26.900</td>\n",
              "      <td>51.0</td>\n",
              "      <td>90.650</td>\n",
              "      <td>6.56</td>\n",
              "      <td>82.49</td>\n",
              "    </tr>\n",
              "    <tr>\n",
              "      <th>0.99</th>\n",
              "      <td>42222.52</td>\n",
              "      <td>1104507.03</td>\n",
              "      <td>26113.22</td>\n",
              "      <td>27801.429</td>\n",
              "      <td>53839.72</td>\n",
              "      <td>881.85</td>\n",
              "      <td>899.429</td>\n",
              "      <td>18362.44963</td>\n",
              "      <td>272.07533</td>\n",
              "      <td>246.0930</td>\n",
              "      <td>660.066</td>\n",
              "      <td>8.52148</td>\n",
              "      <td>7.81024</td>\n",
              "      <td>445872.05</td>\n",
              "      <td>28000299.9</td>\n",
              "      <td>455.74605</td>\n",
              "      <td>5.49252</td>\n",
              "      <td>356748.27</td>\n",
              "      <td>5.18723</td>\n",
              "      <td>2320.61804</td>\n",
              "      <td>0.458</td>\n",
              "      <td>100.00</td>\n",
              "      <td>1.439324e+09</td>\n",
              "      <td>7915.731</td>\n",
              "      <td>47.9</td>\n",
              "      <td>23.021</td>\n",
              "      <td>16.240</td>\n",
              "      <td>94277.965</td>\n",
              "      <td>77.1</td>\n",
              "      <td>597.029</td>\n",
              "      <td>22.02</td>\n",
              "      <td>37.700</td>\n",
              "      <td>76.1</td>\n",
              "      <td>98.999</td>\n",
              "      <td>13.05</td>\n",
              "      <td>84.97</td>\n",
              "    </tr>\n",
              "    <tr>\n",
              "      <th>1.00</th>\n",
              "      <td>42649.00</td>\n",
              "      <td>27609408.00</td>\n",
              "      <td>298039.00</td>\n",
              "      <td>270541.143</td>\n",
              "      <td>898087.00</td>\n",
              "      <td>10491.00</td>\n",
              "      <td>7456.571</td>\n",
              "      <td>526397.00000</td>\n",
              "      <td>4944.37600</td>\n",
              "      <td>882.9240</td>\n",
              "      <td>1237.551</td>\n",
              "      <td>215.38200</td>\n",
              "      <td>63.14000</td>\n",
              "      <td>1228189.00</td>\n",
              "      <td>93298521.0</td>\n",
              "      <td>778.96900</td>\n",
              "      <td>16.57400</td>\n",
              "      <td>1066782.00</td>\n",
              "      <td>12.50200</td>\n",
              "      <td>47299.00000</td>\n",
              "      <td>0.651</td>\n",
              "      <td>100.00</td>\n",
              "      <td>7.794799e+09</td>\n",
              "      <td>19347.500</td>\n",
              "      <td>48.2</td>\n",
              "      <td>27.049</td>\n",
              "      <td>18.493</td>\n",
              "      <td>116935.600</td>\n",
              "      <td>77.6</td>\n",
              "      <td>724.417</td>\n",
              "      <td>23.36</td>\n",
              "      <td>44.000</td>\n",
              "      <td>78.1</td>\n",
              "      <td>98.999</td>\n",
              "      <td>13.80</td>\n",
              "      <td>86.75</td>\n",
              "    </tr>\n",
              "  </tbody>\n",
              "</table>\n",
              "</div>"
            ],
            "text/plain": [
              "         RECID  total_cases  ...  hospital_beds_per_thousand  life_expectancy\n",
              "0.00      1.00         0.00  ...                        0.10            53.28\n",
              "0.01    427.48         0.00  ...                        0.30            54.33\n",
              "0.10   4265.80         3.00  ...                        0.70            62.42\n",
              "0.25  10663.00        43.00  ...                        1.30            69.91\n",
              "0.50  21325.00       847.00  ...                        2.50            75.49\n",
              "0.75  31987.00      8928.00  ...                        4.20            79.93\n",
              "0.90  38384.20     64508.90  ...                        6.56            82.49\n",
              "0.99  42222.52   1104507.03  ...                       13.05            84.97\n",
              "1.00  42649.00  27609408.00  ...                       13.80            86.75\n",
              "\n",
              "[9 rows x 36 columns]"
            ]
          },
          "metadata": {
            "tags": []
          },
          "execution_count": 66
        }
      ]
    },
    {
      "cell_type": "markdown",
      "metadata": {
        "id": "2UrwV6grQCQi"
      },
      "source": [
        "Then I count the values for each attribute, the result is showing below. This can help us to identify do we have any missing values for each attribute."
      ]
    },
    {
      "cell_type": "code",
      "metadata": {
        "colab": {
          "base_uri": "https://localhost:8080/"
        },
        "id": "c1n0J7sAP1xK",
        "outputId": "c6c51e46-2735-447a-b242-086103687826"
      },
      "source": [
        "df.count()"
      ],
      "execution_count": 68,
      "outputs": [
        {
          "output_type": "execute_result",
          "data": {
            "text/plain": [
              "RECID                              42649\n",
              "iso_code                           42395\n",
              "continent                          42141\n",
              "location                           42649\n",
              "date                               42649\n",
              "total_cases                        42074\n",
              "new_cases                          41884\n",
              "new_cases_smoothed                 41101\n",
              "total_deaths                       42074\n",
              "new_deaths                         41884\n",
              "new_deaths_smoothed                41101\n",
              "total_cases_per_million            41820\n",
              "new_cases_per_million              41820\n",
              "new_cases_smoothed_per_million     41037\n",
              "total_deaths_per_million           41820\n",
              "new_deaths_per_million             41820\n",
              "new_deaths_smoothed_per_million    41037\n",
              "new_tests                          14330\n",
              "total_tests                        14684\n",
              "total_tests_per_thousand           14684\n",
              "new_tests_per_thousand             14330\n",
              "new_tests_smoothed                 16108\n",
              "new_tests_smoothed_per_thousand    16108\n",
              "tests_per_case                     14932\n",
              "positive_rate                      15312\n",
              "tests_units                        16889\n",
              "stringency_index                   35345\n",
              "population                         42395\n",
              "population_density                 40486\n",
              "median_age                         38066\n",
              "aged_65_older                      37504\n",
              "aged_70_older                      37869\n",
              "gdp_per_capita                     37586\n",
              "extreme_poverty                    25098\n",
              "cardiovasc_death_rate              38079\n",
              "diabetes_prevalence                39410\n",
              "female_smokers                     29942\n",
              "male_smokers                       29567\n",
              "handwashing_facilities             17731\n",
              "hospital_beds_per_thousand         34461\n",
              "life_expectancy                    41867\n",
              "NEW_CASE_TREND                     41037\n",
              "dtype: int64"
            ]
          },
          "metadata": {
            "tags": []
          },
          "execution_count": 68
        }
      ]
    },
    {
      "cell_type": "markdown",
      "metadata": {
        "id": "cWOQk7uqR3Kr"
      },
      "source": [
        "Total cases and toal deaths across the world are two most interesting values for me."
      ]
    },
    {
      "cell_type": "code",
      "metadata": {
        "colab": {
          "base_uri": "https://localhost:8080/",
          "height": 87
        },
        "id": "Dt9ZUhEfOmVv",
        "outputId": "54ce7918-4103-41ce-a95e-76d7f29b295e"
      },
      "source": [
        "df_new = df[df['location'] =='World']\r\n",
        "display('total case',df_new['total_cases'].max())\r\n",
        "display('total death',df_new['total_deaths'].max())"
      ],
      "execution_count": 73,
      "outputs": [
        {
          "output_type": "display_data",
          "data": {
            "application/vnd.google.colaboratory.intrinsic+json": {
              "type": "string"
            },
            "text/plain": [
              "'total case'"
            ]
          },
          "metadata": {
            "tags": []
          }
        },
        {
          "output_type": "display_data",
          "data": {
            "text/plain": [
              "27609408.0"
            ]
          },
          "metadata": {
            "tags": []
          }
        },
        {
          "output_type": "display_data",
          "data": {
            "application/vnd.google.colaboratory.intrinsic+json": {
              "type": "string"
            },
            "text/plain": [
              "'total death'"
            ]
          },
          "metadata": {
            "tags": []
          }
        },
        {
          "output_type": "display_data",
          "data": {
            "text/plain": [
              "898087.0"
            ]
          },
          "metadata": {
            "tags": []
          }
        }
      ]
    },
    {
      "cell_type": "markdown",
      "metadata": {
        "id": "riKTSsneSU1G"
      },
      "source": [
        "Here is the total cases group by location.\r\n",
        "\r\n"
      ]
    },
    {
      "cell_type": "code",
      "metadata": {
        "colab": {
          "base_uri": "https://localhost:8080/",
          "height": 450
        },
        "id": "y7dcJIROOnrY",
        "outputId": "42cb51eb-5b24-4cde-ef3d-a0ed81170422"
      },
      "source": [
        "df_new = df[['location','total_cases']].groupby('location').max()\r\n",
        "display(df_new)"
      ],
      "execution_count": 75,
      "outputs": [
        {
          "output_type": "display_data",
          "data": {
            "text/html": [
              "<div>\n",
              "<style scoped>\n",
              "    .dataframe tbody tr th:only-of-type {\n",
              "        vertical-align: middle;\n",
              "    }\n",
              "\n",
              "    .dataframe tbody tr th {\n",
              "        vertical-align: top;\n",
              "    }\n",
              "\n",
              "    .dataframe thead th {\n",
              "        text-align: right;\n",
              "    }\n",
              "</style>\n",
              "<table border=\"1\" class=\"dataframe\">\n",
              "  <thead>\n",
              "    <tr style=\"text-align: right;\">\n",
              "      <th></th>\n",
              "      <th>total_cases</th>\n",
              "    </tr>\n",
              "    <tr>\n",
              "      <th>location</th>\n",
              "      <th></th>\n",
              "    </tr>\n",
              "  </thead>\n",
              "  <tbody>\n",
              "    <tr>\n",
              "      <th>Afghanistan</th>\n",
              "      <td>38520.0</td>\n",
              "    </tr>\n",
              "    <tr>\n",
              "      <th>Albania</th>\n",
              "      <td>10553.0</td>\n",
              "    </tr>\n",
              "    <tr>\n",
              "      <th>Algeria</th>\n",
              "      <td>46938.0</td>\n",
              "    </tr>\n",
              "    <tr>\n",
              "      <th>Andorra</th>\n",
              "      <td>1261.0</td>\n",
              "    </tr>\n",
              "    <tr>\n",
              "      <th>Angola</th>\n",
              "      <td>2981.0</td>\n",
              "    </tr>\n",
              "    <tr>\n",
              "      <th>...</th>\n",
              "      <td>...</td>\n",
              "    </tr>\n",
              "    <tr>\n",
              "      <th>Western Sahara</th>\n",
              "      <td>766.0</td>\n",
              "    </tr>\n",
              "    <tr>\n",
              "      <th>World</th>\n",
              "      <td>27609408.0</td>\n",
              "    </tr>\n",
              "    <tr>\n",
              "      <th>Yemen</th>\n",
              "      <td>1994.0</td>\n",
              "    </tr>\n",
              "    <tr>\n",
              "      <th>Zambia</th>\n",
              "      <td>12952.0</td>\n",
              "    </tr>\n",
              "    <tr>\n",
              "      <th>Zimbabwe</th>\n",
              "      <td>7388.0</td>\n",
              "    </tr>\n",
              "  </tbody>\n",
              "</table>\n",
              "<p>212 rows × 1 columns</p>\n",
              "</div>"
            ],
            "text/plain": [
              "                total_cases\n",
              "location                   \n",
              "Afghanistan         38520.0\n",
              "Albania             10553.0\n",
              "Algeria             46938.0\n",
              "Andorra              1261.0\n",
              "Angola               2981.0\n",
              "...                     ...\n",
              "Western Sahara        766.0\n",
              "World            27609408.0\n",
              "Yemen                1994.0\n",
              "Zambia              12952.0\n",
              "Zimbabwe             7388.0\n",
              "\n",
              "[212 rows x 1 columns]"
            ]
          },
          "metadata": {
            "tags": []
          }
        }
      ]
    },
    {
      "cell_type": "markdown",
      "metadata": {
        "id": "xIHMbx1-TrUY"
      },
      "source": [
        "I used the table above as an concrete example to show the following basic statistics"
      ]
    },
    {
      "cell_type": "code",
      "metadata": {
        "colab": {
          "base_uri": "https://localhost:8080/",
          "height": 345
        },
        "id": "hbxH-VVPRkyP",
        "outputId": "6d72aad0-67a1-495b-cee1-4280ed08403c"
      },
      "source": [
        "display('count',df_new.shape[0])\r\n",
        "display('quantile',df_new['total_cases'].quantile([0,0.01,0.1,0.25,0.5,0.75,0.9,0.99,1]))\r\n",
        "display('median',df_new['total_cases'].median())\r\n",
        "display('mean',df_new['total_cases'].mean())\r\n",
        "display('standard deviation',df_new['total_cases'].std())"
      ],
      "execution_count": 78,
      "outputs": [
        {
          "output_type": "display_data",
          "data": {
            "application/vnd.google.colaboratory.intrinsic+json": {
              "type": "string"
            },
            "text/plain": [
              "'count'"
            ]
          },
          "metadata": {
            "tags": []
          }
        },
        {
          "output_type": "display_data",
          "data": {
            "text/plain": [
              "212"
            ]
          },
          "metadata": {
            "tags": []
          }
        },
        {
          "output_type": "display_data",
          "data": {
            "application/vnd.google.colaboratory.intrinsic+json": {
              "type": "string"
            },
            "text/plain": [
              "'quantile'"
            ]
          },
          "metadata": {
            "tags": []
          }
        },
        {
          "output_type": "display_data",
          "data": {
            "text/plain": [
              "0.00           3.0\n",
              "0.01          13.0\n",
              "0.10         145.0\n",
              "0.25        1226.0\n",
              "0.50        7149.0\n",
              "0.75       54903.0\n",
              "0.90      253474.0\n",
              "0.99     4349322.5\n",
              "1.00    27609408.0\n",
              "Name: total_cases, dtype: float64"
            ]
          },
          "metadata": {
            "tags": []
          }
        },
        {
          "output_type": "display_data",
          "data": {
            "application/vnd.google.colaboratory.intrinsic+json": {
              "type": "string"
            },
            "text/plain": [
              "'median'"
            ]
          },
          "metadata": {
            "tags": []
          }
        },
        {
          "output_type": "display_data",
          "data": {
            "text/plain": [
              "7149.0"
            ]
          },
          "metadata": {
            "tags": []
          }
        },
        {
          "output_type": "display_data",
          "data": {
            "application/vnd.google.colaboratory.intrinsic+json": {
              "type": "string"
            },
            "text/plain": [
              "'mean'"
            ]
          },
          "metadata": {
            "tags": []
          }
        },
        {
          "output_type": "display_data",
          "data": {
            "text/plain": [
              "270146.44075829384"
            ]
          },
          "metadata": {
            "tags": []
          }
        },
        {
          "output_type": "display_data",
          "data": {
            "application/vnd.google.colaboratory.intrinsic+json": {
              "type": "string"
            },
            "text/plain": [
              "'standard deviation'"
            ]
          },
          "metadata": {
            "tags": []
          }
        },
        {
          "output_type": "display_data",
          "data": {
            "text/plain": [
              "1990905.2965442843"
            ]
          },
          "metadata": {
            "tags": []
          }
        }
      ]
    },
    {
      "cell_type": "markdown",
      "metadata": {
        "id": "4jv0PzxSdU0B"
      },
      "source": [
        "***\n",
        "## Section: 2.3 - Visualize the most important or interesting attributes using appropriate techniques.\n",
        "- For each visualization, provide an interpretation explaining why it is appropriate or interesting. What does each visualization tell us?\n",
        "***"
      ]
    },
    {
      "cell_type": "markdown",
      "metadata": {
        "id": "HZxewyVZatjb"
      },
      "source": [
        "I would first exam whether a country with higher old population rate has more cases because older people can get infected more easily. I would choose the top 5 oldest countries and top 5 youngest countries."
      ]
    },
    {
      "cell_type": "code",
      "metadata": {
        "id": "mfPbDr2xU5ik"
      },
      "source": [
        "# Find the oldest countries.\r\n",
        "df_old = df.nlargest(5000, 'aged_70_older')\r\n",
        "values = np.sort(df_old['aged_70_older'].unique())[::-1][0:5]"
      ],
      "execution_count": 156,
      "outputs": []
    },
    {
      "cell_type": "code",
      "metadata": {
        "id": "OdbCZAfacu0_"
      },
      "source": [
        "# get the top 5 oldest countries\r\n",
        "location = []\r\n",
        "for i in values:\r\n",
        "  df_top = df[df['aged_70_older'] == i]\r\n",
        "  location.append(df_top['location'].unique())"
      ],
      "execution_count": 157,
      "outputs": []
    },
    {
      "cell_type": "code",
      "metadata": {
        "id": "DeWF8lmYcu1-"
      },
      "source": [
        "df_low = df.nsmallest(5000, 'aged_70_older')\r\n",
        "values = np.sort(df_low['aged_70_older'].unique())[0:5]"
      ],
      "execution_count": 158,
      "outputs": []
    },
    {
      "cell_type": "code",
      "metadata": {
        "id": "EP0n_h5leByE"
      },
      "source": [
        "for i in values:\r\n",
        "  df_low = df[df['aged_70_older'] == i]\r\n",
        "  location.append(df_low['location'].unique())"
      ],
      "execution_count": 159,
      "outputs": []
    },
    {
      "cell_type": "code",
      "metadata": {
        "colab": {
          "base_uri": "https://localhost:8080/"
        },
        "id": "847osOa5gPCO",
        "outputId": "e917688c-edd3-4cc2-abcc-8f02136739bb"
      },
      "source": [
        "location"
      ],
      "execution_count": 163,
      "outputs": [
        {
          "output_type": "execute_result",
          "data": {
            "text/plain": [
              "[array(['Japan'], dtype=object),\n",
              " array(['Italy'], dtype=object),\n",
              " array(['Germany'], dtype=object),\n",
              " array(['Portugal'], dtype=object),\n",
              " array(['Greece'], dtype=object),\n",
              " array(['United Arab Emirates'], dtype=object),\n",
              " array(['Qatar'], dtype=object),\n",
              " array(['Kuwait'], dtype=object),\n",
              " array(['Sierra Leone'], dtype=object),\n",
              " array(['Uganda'], dtype=object)]"
            ]
          },
          "metadata": {
            "tags": []
          },
          "execution_count": 163
        }
      ]
    },
    {
      "cell_type": "code",
      "metadata": {
        "id": "uQ0DCrakebgd"
      },
      "source": [
        "# combine data for plotting\r\n",
        "total_cases = []\r\n",
        "for country in location:\r\n",
        "  df2 = df[df['location']==country[0]]\r\n",
        "  total_cases.append(df2['total_cases_per_million'].max())"
      ],
      "execution_count": 164,
      "outputs": []
    },
    {
      "cell_type": "code",
      "metadata": {
        "colab": {
          "base_uri": "https://localhost:8080/"
        },
        "id": "DHGBX0xyh_Yb",
        "outputId": "d3508853-3c30-41ce-95cd-58245c892340"
      },
      "source": [
        "total_cases"
      ],
      "execution_count": 165,
      "outputs": [
        {
          "output_type": "execute_result",
          "data": {
            "text/plain": [
              "[575.016,\n",
              " 4633.552,\n",
              " 3025.329,\n",
              " 5972.026,\n",
              " 1135.176,\n",
              " 7593.019,\n",
              " 41852.304,\n",
              " 21365.801,\n",
              " 258.744,\n",
              " 85.263]"
            ]
          },
          "metadata": {
            "tags": []
          },
          "execution_count": 165
        }
      ]
    },
    {
      "cell_type": "code",
      "metadata": {
        "colab": {
          "base_uri": "https://localhost:8080/",
          "height": 281
        },
        "id": "wKK0IZfmjS_5",
        "outputId": "fc4d02ae-c741-4377-b031-836476f925c9"
      },
      "source": [
        "objects = ('Japan', 'Italy', 'German', 'Portugal', 'Greece', 'United Arab Emirates','Qatar','Kuwait','Sierra Leone','Uganda')\r\n",
        "y_pos = np.arange(len(objects))\r\n",
        "plt.bar(y_pos, total_cases, align='center', alpha=0.5)\r\n",
        "plt.xticks(y_pos, objects)\r\n",
        "plt.ylabel('total cases')\r\n",
        "plt.title('Total Cases by old to young')\r\n",
        "\r\n",
        "plt.show()"
      ],
      "execution_count": 190,
      "outputs": [
        {
          "output_type": "display_data",
          "data": {
            "image/png": "[encoded data removed]",
            "text/plain": [
              "<Figure size 432x288 with 1 Axes>"
            ]
          },
          "metadata": {
            "tags": [],
            "needs_background": "light"
          }
        }
      ]
    },
    {
      "cell_type": "markdown",
      "metadata": {
        "id": "aK3dK88fmoWx"
      },
      "source": [
        "We can see that Qatar and Kuwait have the highest cases with lower rate of old population. However, other countries with either higher or lower rate of old population all have low cases. Thus, we cannot infer any relationship between old population rate and total cases."
      ]
    },
    {
      "cell_type": "markdown",
      "metadata": {
        "id": "uuYptpAsn4kv"
      },
      "source": [
        "Next I would like to exam whether old country have higher death rate in order to determine whether covid-19 is more fatal to high-age group."
      ]
    },
    {
      "cell_type": "code",
      "metadata": {
        "id": "IdKyBWHKoMiP"
      },
      "source": [
        "death_rate = []\r\n",
        "for country in location:\r\n",
        "  df2 = df[df['location']==country[0]]\r\n",
        "  death_rate.append(df2['total_deaths_per_million'].max())"
      ],
      "execution_count": 191,
      "outputs": []
    },
    {
      "cell_type": "code",
      "metadata": {
        "colab": {
          "base_uri": "https://localhost:8080/"
        },
        "id": "bx0sj-nkoi9u",
        "outputId": "f1041077-eaef-4aec-b1cd-9d5d5e7046ee"
      },
      "source": [
        "death_rate"
      ],
      "execution_count": 192,
      "outputs": [
        {
          "output_type": "execute_result",
          "data": {
            "text/plain": [
              "[11.014,\n",
              " 588.189,\n",
              " 111.453,\n",
              " 181.039,\n",
              " 27.823,\n",
              " 39.533,\n",
              " 71.154,\n",
              " 128.32,\n",
              " 9.026,\n",
              " 1.006]"
            ]
          },
          "metadata": {
            "tags": []
          },
          "execution_count": 192
        }
      ]
    },
    {
      "cell_type": "code",
      "metadata": {
        "colab": {
          "base_uri": "https://localhost:8080/",
          "height": 281
        },
        "id": "YU2qJWJkoi-_",
        "outputId": "adb7a5e7-d914-420c-ab52-06f1593b5e62"
      },
      "source": [
        "objects = ('Japan', 'Italy', 'German', 'Portugal', 'Greece', 'United Arab Emirates','Qatar','Kuwait','Sierra Leone','Uganda')\r\n",
        "y_pos = np.arange(len(objects))\r\n",
        "plt.bar(y_pos, death_rate, align='center', alpha=0.5)\r\n",
        "plt.xticks(y_pos, objects)\r\n",
        "plt.ylabel('death_rate')\r\n",
        "plt.title('death_rate from old to young')\r\n",
        "\r\n",
        "plt.show()"
      ],
      "execution_count": 194,
      "outputs": [
        {
          "output_type": "display_data",
          "data": {
            "image/png": "[encoded data removed]",
            "text/plain": [
              "<Figure size 432x288 with 1 Axes>"
            ]
          },
          "metadata": {
            "tags": [],
            "needs_background": "light"
          }
        }
      ]
    },
    {
      "cell_type": "markdown",
      "metadata": {
        "id": "ZXrYFMkUovYB"
      },
      "source": [
        "As you can see, death rate is higher in countries with higher older population rate except. It is reasonable becuase Japanese is an outlier in such case due to their good habit in hygiene"
      ]
    },
    {
      "cell_type": "markdown",
      "metadata": {
        "id": "mJObqE_udU0B"
      },
      "source": [
        "***\n",
        "## Section: 2.4 - Verify data quality: explain any missing values, duplicate data, or outliers.\n",
        "- What, if anything, do you need to do about these? Be specific.\n",
        "***"
      ]
    },
    {
      "cell_type": "markdown",
      "metadata": {
        "id": "jO3qjygNVjqQ"
      },
      "source": [
        "As you can see in Section 2.2, lots of attributes have missing values. We are expected to have 42649 records for each attribute, such as handwashing_facilities.<br>\r\n",
        "Also, there are datas with wrong value. For example, we have negative new cases within this dataset. We need to correct these values since they will beheave as outliers and will have a strong effect to the later modeling process"
      ]
    },
    {
      "cell_type": "markdown",
      "metadata": {
        "id": "vdHAePRydU0C"
      },
      "source": [
        "***\n",
        "## Section: 2.5 - Explore the relationships among the attributes, excluding the class attribute.\n",
        "- Use scatter plots, correlation matrices, cross-tabulations, group-wise averages, or other appropriate techniques. Explain and interpret any interesting relationships.\n",
        "***"
      ]
    },
    {
      "cell_type": "markdown",
      "metadata": {
        "id": "6xcGo-rfv0hl"
      },
      "source": [
        "I would like to continue exploration about the relation between high-age group and death rate"
      ]
    },
    {
      "cell_type": "code",
      "metadata": {
        "colab": {
          "base_uri": "https://localhost:8080/",
          "height": 414
        },
        "id": "kUouIbwIdU0C",
        "outputId": "aa5e5efe-c1c6-4df8-dff8-13ca1822cd0b"
      },
      "source": [
        "# set up new tables with location-death_rate and location-aged_70_older\r\n",
        "df2 = df[['location','total_deaths_per_million', 'aged_70_older']].dropna()\r\n",
        "dfx = df2[['location','total_deaths_per_million']]\r\n",
        "dfy = df2[['location','aged_70_older']]\r\n",
        "\r\n",
        "new_df1 = dfx.groupby(\"location\")\r\n",
        "deaths = new_df1['total_deaths_per_million'].max()\r\n",
        "deaths = deaths.reset_index()\r\n",
        "\r\n",
        "new_df2= dfy.groupby(\"location\")\r\n",
        "old = new_df2['aged_70_older'].max()\r\n",
        "old = old.reset_index()\r\n",
        "\r\n",
        "relation=pd.merge(left=old, right=deaths, left_on='location', right_on='location')\r\n",
        "corr = relation[['aged_70_older', 'total_deaths_per_million']]\r\n",
        "com = corr.corr().round(5)\r\n",
        "plt.figure(figsize=(8,6))\r\n",
        "sns.heatmap(data=com, annot=True, center=0.0, cmap='coolwarm')"
      ],
      "execution_count": 203,
      "outputs": [
        {
          "output_type": "execute_result",
          "data": {
            "text/plain": [
              "<matplotlib.axes._subplots.AxesSubplot at 0x7fa39bad6a20>"
            ]
          },
          "metadata": {
            "tags": []
          },
          "execution_count": 203
        },
        {
          "output_type": "display_data",
          "data": {
            "image/png": "[encoded data removed]",
            "text/plain": [
              "<Figure size 576x432 with 2 Axes>"
            ]
          },
          "metadata": {
            "tags": [],
            "needs_background": "light"
          }
        }
      ]
    },
    {
      "cell_type": "markdown",
      "metadata": {
        "id": "ggFWnj_2xWyb"
      },
      "source": [
        "These two atttributes have a correlation of 0.33, which is not very high."
      ]
    },
    {
      "cell_type": "markdown",
      "metadata": {
        "id": "twnPk_6odU0C"
      },
      "source": [
        "***\n",
        "## Section: 2.6 - Identify and explain any interesting relationships between the class attribute and the other attributes.\n",
        "- You may refer to earlier visualizations or create new ones.\n",
        "***"
      ]
    },
    {
      "cell_type": "markdown",
      "metadata": {
        "id": "E1izrZtJpaRo"
      },
      "source": [
        "refer to earlier visualizations"
      ]
    },
    {
      "cell_type": "markdown",
      "metadata": {
        "id": "DaVJlht9dU0C"
      },
      "source": [
        "***\n",
        "# Section: 3 - Data Processing\n",
        "- Based on the insights gleaned in the data understanding phase, determine what type of processing that you would like to do to create a final dataset to be used for future modeling.\n",
        "- One of the final outputs of your program should be the creation of a dataset (can be in the format of a Python data frame) which has all of the attributes you would like to use for the modeling phase of a project, as well as dealing with any outliers, noise or missing values.\n",
        "***"
      ]
    },
    {
      "cell_type": "markdown",
      "metadata": {
        "id": "YpxTVv4ldU0D"
      },
      "source": [
        "***\n",
        "## Section: 3.1 - What attributes do you decide to keep or remove? Please justify.\n",
        "***"
      ]
    },
    {
      "cell_type": "markdown",
      "metadata": {
        "id": "qhZ3f3_Axo-y"
      },
      "source": [
        "I would like to remove attributes like handwashing_facilities which have a lot of missing values"
      ]
    },
    {
      "cell_type": "markdown",
      "metadata": {
        "id": "ZSztRffKdU0D"
      },
      "source": [
        "***\n",
        "## Section: 3.2 - Did you decide to implement any attribute transformations? If so, why?\n",
        "***"
      ]
    },
    {
      "cell_type": "markdown",
      "metadata": {
        "id": "Jf-men0ax5S9"
      },
      "source": [
        "I would not like to implement any attribute transformations since the dataset itself already have a lot of smoothed values. Also, most of the values have practical meaning such as total number of cases. It would hurt the data if we choose to transform the attributes."
      ]
    },
    {
      "cell_type": "markdown",
      "metadata": {
        "id": "d96JijTZdU0D"
      },
      "source": [
        "***\n",
        "## Section: 3.3 - Did you decide to create any new features? If so, why?\n",
        "***"
      ]
    },
    {
      "cell_type": "markdown",
      "metadata": {
        "id": "o53W7QUryYdr"
      },
      "source": [
        "I would not like to create any new features since the dataset already have more than 40 attributes. When we create new features, we will need to data to fill in the gap. Also, it can increase the correlation among attributes"
      ]
    },
    {
      "cell_type": "markdown",
      "metadata": {
        "id": "HtZXwyQcdU0D"
      },
      "source": [
        "***\n",
        "## Section: 3.4 - Implement any data cleaning steps previously identified.\n",
        "- Show the effects of that cleaning through the use of appropriate statistics and/or visualizations.\n",
        "***"
      ]
    },
    {
      "cell_type": "markdown",
      "metadata": {
        "id": "8vOT9oAGyyR2"
      },
      "source": [
        "I will just drop some columns which have lots of missing values."
      ]
    },
    {
      "cell_type": "code",
      "metadata": {
        "id": "IdZPYyVNdU0D"
      },
      "source": [
        "df3 = df.drop(['diabetes_prevalence','handwashing_facilities','female_smokers','male_smokers'],1)"
      ],
      "execution_count": 215,
      "outputs": []
    },
    {
      "cell_type": "markdown",
      "metadata": {
        "id": "VHWDV40s0h5g"
      },
      "source": [
        "The effect cannot be shown after this cleanning step since my previous parts did not use these bad attributes due to lots of missing value. I would still repeat what I did previously in order to follow instruction in this lab."
      ]
    },
    {
      "cell_type": "code",
      "metadata": {
        "colab": {
          "base_uri": "https://localhost:8080/",
          "height": 778
        },
        "id": "cfk-VC5G1AxA",
        "outputId": "97383178-dfab-455c-90b7-0c62b48934b2"
      },
      "source": [
        "df_new = df3[['location','total_cases']].groupby('location').max()\r\n",
        "display(df_new)\r\n",
        "\r\n",
        "display('count',df_new.shape[0])\r\n",
        "display('quantile',df_new['total_cases'].quantile([0,0.01,0.1,0.25,0.5,0.75,0.9,0.99,1]))\r\n",
        "display('median',df_new['total_cases'].median())\r\n",
        "display('mean',df_new['total_cases'].mean())\r\n",
        "display('standard deviation',df_new['total_cases'].std())"
      ],
      "execution_count": 217,
      "outputs": [
        {
          "output_type": "display_data",
          "data": {
            "text/html": [
              "<div>\n",
              "<style scoped>\n",
              "    .dataframe tbody tr th:only-of-type {\n",
              "        vertical-align: middle;\n",
              "    }\n",
              "\n",
              "    .dataframe tbody tr th {\n",
              "        vertical-align: top;\n",
              "    }\n",
              "\n",
              "    .dataframe thead th {\n",
              "        text-align: right;\n",
              "    }\n",
              "</style>\n",
              "<table border=\"1\" class=\"dataframe\">\n",
              "  <thead>\n",
              "    <tr style=\"text-align: right;\">\n",
              "      <th></th>\n",
              "      <th>total_cases</th>\n",
              "    </tr>\n",
              "    <tr>\n",
              "      <th>location</th>\n",
              "      <th></th>\n",
              "    </tr>\n",
              "  </thead>\n",
              "  <tbody>\n",
              "    <tr>\n",
              "      <th>Afghanistan</th>\n",
              "      <td>38520.0</td>\n",
              "    </tr>\n",
              "    <tr>\n",
              "      <th>Albania</th>\n",
              "      <td>10553.0</td>\n",
              "    </tr>\n",
              "    <tr>\n",
              "      <th>Algeria</th>\n",
              "      <td>46938.0</td>\n",
              "    </tr>\n",
              "    <tr>\n",
              "      <th>Andorra</th>\n",
              "      <td>1261.0</td>\n",
              "    </tr>\n",
              "    <tr>\n",
              "      <th>Angola</th>\n",
              "      <td>2981.0</td>\n",
              "    </tr>\n",
              "    <tr>\n",
              "      <th>...</th>\n",
              "      <td>...</td>\n",
              "    </tr>\n",
              "    <tr>\n",
              "      <th>Western Sahara</th>\n",
              "      <td>766.0</td>\n",
              "    </tr>\n",
              "    <tr>\n",
              "      <th>World</th>\n",
              "      <td>27609408.0</td>\n",
              "    </tr>\n",
              "    <tr>\n",
              "      <th>Yemen</th>\n",
              "      <td>1994.0</td>\n",
              "    </tr>\n",
              "    <tr>\n",
              "      <th>Zambia</th>\n",
              "      <td>12952.0</td>\n",
              "    </tr>\n",
              "    <tr>\n",
              "      <th>Zimbabwe</th>\n",
              "      <td>7388.0</td>\n",
              "    </tr>\n",
              "  </tbody>\n",
              "</table>\n",
              "<p>212 rows × 1 columns</p>\n",
              "</div>"
            ],
            "text/plain": [
              "                total_cases\n",
              "location                   \n",
              "Afghanistan         38520.0\n",
              "Albania             10553.0\n",
              "Algeria             46938.0\n",
              "Andorra              1261.0\n",
              "Angola               2981.0\n",
              "...                     ...\n",
              "Western Sahara        766.0\n",
              "World            27609408.0\n",
              "Yemen                1994.0\n",
              "Zambia              12952.0\n",
              "Zimbabwe             7388.0\n",
              "\n",
              "[212 rows x 1 columns]"
            ]
          },
          "metadata": {
            "tags": []
          }
        },
        {
          "output_type": "display_data",
          "data": {
            "application/vnd.google.colaboratory.intrinsic+json": {
              "type": "string"
            },
            "text/plain": [
              "'count'"
            ]
          },
          "metadata": {
            "tags": []
          }
        },
        {
          "output_type": "display_data",
          "data": {
            "text/plain": [
              "212"
            ]
          },
          "metadata": {
            "tags": []
          }
        },
        {
          "output_type": "display_data",
          "data": {
            "application/vnd.google.colaboratory.intrinsic+json": {
              "type": "string"
            },
            "text/plain": [
              "'quantile'"
            ]
          },
          "metadata": {
            "tags": []
          }
        },
        {
          "output_type": "display_data",
          "data": {
            "text/plain": [
              "0.00           3.0\n",
              "0.01          13.0\n",
              "0.10         145.0\n",
              "0.25        1226.0\n",
              "0.50        7149.0\n",
              "0.75       54903.0\n",
              "0.90      253474.0\n",
              "0.99     4349322.5\n",
              "1.00    27609408.0\n",
              "Name: total_cases, dtype: float64"
            ]
          },
          "metadata": {
            "tags": []
          }
        },
        {
          "output_type": "display_data",
          "data": {
            "application/vnd.google.colaboratory.intrinsic+json": {
              "type": "string"
            },
            "text/plain": [
              "'median'"
            ]
          },
          "metadata": {
            "tags": []
          }
        },
        {
          "output_type": "display_data",
          "data": {
            "text/plain": [
              "7149.0"
            ]
          },
          "metadata": {
            "tags": []
          }
        },
        {
          "output_type": "display_data",
          "data": {
            "application/vnd.google.colaboratory.intrinsic+json": {
              "type": "string"
            },
            "text/plain": [
              "'mean'"
            ]
          },
          "metadata": {
            "tags": []
          }
        },
        {
          "output_type": "display_data",
          "data": {
            "text/plain": [
              "270146.44075829384"
            ]
          },
          "metadata": {
            "tags": []
          }
        },
        {
          "output_type": "display_data",
          "data": {
            "application/vnd.google.colaboratory.intrinsic+json": {
              "type": "string"
            },
            "text/plain": [
              "'standard deviation'"
            ]
          },
          "metadata": {
            "tags": []
          }
        },
        {
          "output_type": "display_data",
          "data": {
            "text/plain": [
              "1990905.2965442843"
            ]
          },
          "metadata": {
            "tags": []
          }
        }
      ]
    },
    {
      "cell_type": "markdown",
      "metadata": {
        "id": "RR_Clb_4dU0E"
      },
      "source": [
        "***\n",
        "# Section: 4 - Conclusions\n",
        "- What are your overall conclusions about the data?\n",
        "- What did you learn? Identify and explain any interesting relationships between the class attribute and the other attributes. You may refer to earlier visualizations or create new ones.?\n",
        "***"
      ]
    },
    {
      "cell_type": "markdown",
      "metadata": {
        "id": "tJV1nF_11jrK"
      },
      "source": [
        "The data looks exhaustive and contains a lot of information. Looks very overwhelming at beginning.<br>\r\n",
        "One lesson I learnt in this project is how ot manipulate data and visualize them in pandas. Also, I learnt that when doing analysis, I should avoid bad data, such as attribtue with missing values and utilize those good ones.<br>\r\n",
        "I am happy to analyze the correlation between high-age group and death-rate becuase those two attributes sounds correlated intuitively and finally they are correlated."
      ]
    },
    {
      "cell_type": "code",
      "metadata": {
        "id": "wdKIEsdEdU0E"
      },
      "source": [
        ""
      ],
      "execution_count": null,
      "outputs": []
    }
  ]
}